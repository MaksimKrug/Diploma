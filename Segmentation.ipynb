{
 "cells": [
  {
   "cell_type": "code",
   "execution_count": 1,
   "metadata": {
    "id": "H7G1Fj09hXqv"
   },
   "outputs": [],
   "source": [
    "import json\n",
    "import cv2\n",
    "import matplotlib.pyplot as plt\n",
    "import numpy as np\n",
    "from tqdm.notebook import tqdm\n",
    "from IPython.display import clear_output\n",
    "import tensorflow as tf"
   ]
  },
  {
   "cell_type": "code",
   "execution_count": null,
   "metadata": {
    "colab": {
     "base_uri": "https://localhost:8080/"
    },
    "executionInfo": {
     "elapsed": 6277,
     "status": "ok",
     "timestamp": 1640531250904,
     "user": {
      "displayName": "Maksim Krug",
      "photoUrl": "https://lh3.googleusercontent.com/a/default-user=s64",
      "userId": "18439675996386792554"
     },
     "user_tz": -180
    },
    "id": "rK_gzn_UMmjw",
    "outputId": "0d45e020-ad1e-4901-8371-64afb3e8c9e5"
   },
   "outputs": [
    {
     "name": "stdout",
     "output_type": "stream",
     "text": [
      "Downloading...\n",
      "From: https://drive.google.com/uc?id=1fp0O4cfPwB_QEZ7IrlpqwXRWmk-K64nK\n",
      "To: /home/maksim/Desktop/Diploma/SegmentationData.zip\n",
      " 66%|█████████████████████████▎            | 37.7M/56.8M [00:10<00:04, 4.00MB/s]"
     ]
    }
   ],
   "source": [
    "!gdown https://drive.google.com/uc?id=1fp0O4cfPwB_QEZ7IrlpqwXRWmk-K64nK\n",
    "!unzip -qq SegmentationData"
   ]
  },
  {
   "cell_type": "markdown",
   "metadata": {
    "id": "iTVJUYYAh-zH"
   },
   "source": [
    "## EDA"
   ]
  },
  {
   "cell_type": "code",
   "execution_count": null,
   "metadata": {
    "id": "mPL11IbyhXs-"
   },
   "outputs": [],
   "source": [
    "# load labels\n",
    "with open(\"Пакеты_трейн/train_labels.json\", \"r\") as f:\n",
    "  train_labels = json.load(f)\n",
    "with open(\"Пакеты_тест/test_labels.json\", \"r\") as f:\n",
    "  test_labels = json.load(f)"
   ]
  },
  {
   "cell_type": "code",
   "execution_count": null,
   "metadata": {
    "colab": {
     "base_uri": "https://localhost:8080/",
     "height": 1000
    },
    "executionInfo": {
     "elapsed": 4184,
     "status": "ok",
     "timestamp": 1640541962237,
     "user": {
      "displayName": "Maksim Krug",
      "photoUrl": "https://lh3.googleusercontent.com/a/default-user=s64",
      "userId": "18439675996386792554"
     },
     "user_tz": -180
    },
    "id": "hhVTpiPK0H1a",
    "outputId": "74331558-f4c2-47bb-a9c4-5b1359876a2a"
   },
   "outputs": [],
   "source": [
    "# Let's visualize train data\n",
    "n = 0\n",
    "circle_size = 5\n",
    "\n",
    "while n != 5:\n",
    "  img_name = np.random.choice(list(train_labels.keys()))\n",
    "  metadata = train_labels[img_name]\n",
    "  # rad img\n",
    "  img = cv2.imread(\"Пакеты_трейн/\" + metadata[\"filename\"])\n",
    "  img = cv2.cvtColor(img, cv2.COLOR_BGR2RGB)\n",
    "  gt = img.copy()\n",
    "  # skip zero images\n",
    "  if img.sum() == 0 or metadata[\"regions\"] == {}:\n",
    "    continue\n",
    "  # plot labels\n",
    "  for i in metadata[\"regions\"].values():\n",
    "    coords = (i[\"shape_attributes\"][\"cx\"], i[\"shape_attributes\"][\"cy\"])\n",
    "    gt = cv2.circle(gt, coords, circle_size, 255, cv2.FILLED)\n",
    "\n",
    "  # plot\n",
    "  fig, ax = plt.subplots(1, 2, figsize=(12,10))\n",
    "  ax[0].imshow(img)\n",
    "  ax[0].set_title(metadata[\"filename\"])\n",
    "  ax[1].imshow(gt)\n",
    "  ax[1].set_title(f\"Number of rods: {len(metadata['regions'].values())}\")\n",
    "  plt.show()\n",
    "\n",
    "  n += 1"
   ]
  },
  {
   "cell_type": "markdown",
   "metadata": {
    "id": "6dw8pnlZ_c0b"
   },
   "source": [
    "1) We can use cricles to create GT. 2) It's not obvious how to choose optimul circle_size, let's left if 5. 3) We need to left only images that contain some data and some labels."
   ]
  },
  {
   "cell_type": "code",
   "execution_count": 22,
   "metadata": {
    "colab": {
     "base_uri": "https://localhost:8080/",
     "height": 67,
     "referenced_widgets": [
      "1ddcd5c1376b4405b51e9ee8d24376e5",
      "361fb1b2227e427dbfc7d271c48a9155",
      "56df015366e04dc4a3a82db20d52c9bf",
      "080c56d1a38948d5af5c71cecd6b58a1",
      "46f4f38f481848f6af46a423953a6044",
      "bb2de1c39b38476d8aee0238bc6054ec",
      "0525db93fb7e4353b24fb52e5b336901",
      "ff760c1c4cab45df930223cd375f5ae1",
      "62b65a9c1b3942e69c5f1a138c930ebe",
      "1f8083ad299641489b1ac178efa14b0f",
      "858f7a18e209482590d873aff650849a"
     ]
    },
    "executionInfo": {
     "elapsed": 2078,
     "status": "ok",
     "timestamp": 1640541964307,
     "user": {
      "displayName": "Maksim Krug",
      "photoUrl": "https://lh3.googleusercontent.com/a/default-user=s64",
      "userId": "18439675996386792554"
     },
     "user_tz": -180
    },
    "id": "tWl4Hp9v-cJO",
    "outputId": "88f3f990-a520-4caf-ff40-28daf8139cfd"
   },
   "outputs": [
    {
     "data": {
      "application/vnd.jupyter.widget-view+json": {
       "model_id": "e0072ed8822f4ee6b670c2311df524b0",
       "version_major": 2,
       "version_minor": 0
      },
      "text/plain": [
       "  0%|          | 0/4573 [00:00<?, ?it/s]"
      ]
     },
     "metadata": {},
     "output_type": "display_data"
    },
    {
     "name": "stdout",
     "output_type": "stream",
     "text": [
      "New train size: 2632, Previous train size: 4573\n"
     ]
    }
   ],
   "source": [
    "# left only \"normal\" data\n",
    "train_gt = {}\n",
    "\n",
    "for img_name in tqdm(train_labels):\n",
    "  metadata = train_labels[img_name]\n",
    "  if metadata[\"regions\"] == {}:\n",
    "    continue\n",
    "  img = cv2.imread(\"Пакеты_трейн/\" + metadata[\"filename\"])\n",
    "  if img.sum() == 0:\n",
    "    continue\n",
    "  train_gt[img_name] = metadata\n",
    "\n",
    "print(f\"New train size: {len(train_gt)}, Previous train size: {len(train_labels)}\")"
   ]
  },
  {
   "cell_type": "code",
   "execution_count": 23,
   "metadata": {
    "colab": {
     "base_uri": "https://localhost:8080/"
    },
    "executionInfo": {
     "elapsed": 8181,
     "status": "ok",
     "timestamp": 1640541972485,
     "user": {
      "displayName": "Maksim Krug",
      "photoUrl": "https://lh3.googleusercontent.com/a/default-user=s64",
      "userId": "18439675996386792554"
     },
     "user_tz": -180
    },
    "id": "GK_yYhE3b2vR",
    "outputId": "9da83310-0a13-431d-b070-9e8100d66857"
   },
   "outputs": [
    {
     "name": "stdout",
     "output_type": "stream",
     "text": [
      "Train data size: (2132, 256, 256, 3), Val data size: (500, 256, 256, 3)\n",
      "Train labels size: (2132, 256, 256, 1), Val labels size: (500, 256, 256, 1)\n"
     ]
    }
   ],
   "source": [
    "# shuffle\n",
    "keys = list(train_gt.keys())\n",
    "np.random.shuffle(keys)\n",
    "\n",
    "# Prepare data for train\n",
    "train_data, train_labels = [], []\n",
    "for img_name in keys[:-500]:\n",
    "  metadata = train_gt[img_name]\n",
    "  # get data\n",
    "  img = cv2.imread(\"Пакеты_трейн/\" + metadata[\"filename\"])\n",
    "  train_data.append(img.astype(\"float32\") / 255)\n",
    "  # get labels\n",
    "  gt = np.zeros_like(img[..., :1])\n",
    "  for i in metadata[\"regions\"].values():\n",
    "    coords = (i[\"shape_attributes\"][\"cx\"], i[\"shape_attributes\"][\"cy\"])\n",
    "    gt = cv2.circle(gt, coords, circle_size, 1, cv2.FILLED)\n",
    "  train_labels.append(gt.astype(\"float32\"))\n",
    "\n",
    "train_data = np.array(train_data)\n",
    "train_labels = np.array(train_labels)\n",
    "\n",
    "# Prepare data for val\n",
    "val_data, val_labels = [], []\n",
    "for img_name in keys[-500:]:\n",
    "  metadata = train_gt[img_name]\n",
    "  # get data\n",
    "  img = cv2.imread(\"Пакеты_трейн/\" + metadata[\"filename\"])\n",
    "  val_data.append(img.astype(\"float32\") / 255)\n",
    "  # get labels\n",
    "  gt = np.zeros_like(img[..., :1])\n",
    "  for i in metadata[\"regions\"].values():\n",
    "    coords = (i[\"shape_attributes\"][\"cx\"], i[\"shape_attributes\"][\"cy\"])\n",
    "    gt = cv2.circle(gt, coords, circle_size, 1, cv2.FILLED)\n",
    "  val_labels.append(gt.astype(\"float32\"))\n",
    "\n",
    "val_data = np.array(val_data)\n",
    "val_labels = np.array(val_labels)\n",
    "\n",
    "print(f\"Train data size: {train_data.shape}, Val data size: {val_data.shape}\")\n",
    "print(f\"Train labels size: {train_labels.shape}, Val labels size: {val_labels.shape}\")"
   ]
  },
  {
   "cell_type": "code",
   "execution_count": 24,
   "metadata": {
    "id": "trLafVLwzV9V"
   },
   "outputs": [],
   "source": [
    "class Dataloder(tf.keras.utils.Sequence):\n",
    "    \"\"\"Load data from dataset and form batches\n",
    "    \n",
    "    Args:\n",
    "        dataset: instance of Dataset class for image loading and preprocessing.\n",
    "        batch_size: Integet number of images in batch.\n",
    "        shuffle: Boolean, if `True` shuffle image indexes each epoch.\n",
    "    \"\"\"\n",
    "    \n",
    "    def __init__(self, data, labels, batch_size=1, shuffle=False):\n",
    "        self.data = data\n",
    "        self.labels = labels\n",
    "        self.batch_size = batch_size\n",
    "        self.shuffle = shuffle\n",
    "        self.indexes = np.arange(len(data))\n",
    "\n",
    "        # self.on_epoch_end()\n",
    "\n",
    "    def __getitem__(self, i):\n",
    "        \n",
    "        # collect batch data\n",
    "        start = i * self.batch_size\n",
    "        stop = (i + 1) * self.batch_size\n",
    "        data = []\n",
    "        for j in range(start, stop):\n",
    "            data.append([self.data[j], self.labels[j]])\n",
    "        \n",
    "        # transpose list of lists\n",
    "        batch = [np.stack(samples, axis=0) for samples in zip(*data)]\n",
    "        \n",
    "        return batch\n",
    "    \n",
    "    def __len__(self):\n",
    "        \"\"\"Denotes the number of batches per epoch\"\"\"\n",
    "        return len(self.indexes) // self.batch_size"
   ]
  },
  {
   "cell_type": "code",
   "execution_count": 25,
   "metadata": {
    "id": "-BFS1hldzWAJ"
   },
   "outputs": [],
   "source": [
    "train_dataloader = Dataloder(train_data, train_labels, batch_size=16, shuffle=True)\n",
    "valid_dataloader = Dataloder(val_data, val_labels, batch_size=16, shuffle=True)"
   ]
  },
  {
   "cell_type": "code",
   "execution_count": 26,
   "metadata": {},
   "outputs": [],
   "source": [
    "for x in train_dataloader:\n",
    "    break"
   ]
  },
  {
   "cell_type": "markdown",
   "metadata": {
    "id": "C4Vlo9A4BZew"
   },
   "source": [
    "## Segmentation Model"
   ]
  },
  {
   "cell_type": "code",
   "execution_count": 27,
   "metadata": {
    "colab": {
     "base_uri": "https://localhost:8080/"
    },
    "executionInfo": {
     "elapsed": 24,
     "status": "ok",
     "timestamp": 1640541972486,
     "user": {
      "displayName": "Maksim Krug",
      "photoUrl": "https://lh3.googleusercontent.com/a/default-user=s64",
      "userId": "18439675996386792554"
     },
     "user_tz": -180
    },
    "id": "U28OiusCaMbw",
    "outputId": "85c05934-786c-487d-865a-56b6c56d013b"
   },
   "outputs": [
    {
     "name": "stdout",
     "output_type": "stream",
     "text": [
      "Segmentation Models: using `keras` framework.\n"
     ]
    }
   ],
   "source": [
    "import segmentation_models as sm"
   ]
  },
  {
   "cell_type": "code",
   "execution_count": 28,
   "metadata": {
    "id": "pkI_xvsbBYbK"
   },
   "outputs": [
    {
     "name": "stderr",
     "output_type": "stream",
     "text": [
      "2022-03-02 17:36:32.448836: I tensorflow/stream_executor/cuda/cuda_gpu_executor.cc:936] successful NUMA node read from SysFS had negative value (-1), but there must be at least one NUMA node, so returning NUMA node zero\n",
      "2022-03-02 17:36:32.494127: I tensorflow/stream_executor/cuda/cuda_gpu_executor.cc:936] successful NUMA node read from SysFS had negative value (-1), but there must be at least one NUMA node, so returning NUMA node zero\n",
      "2022-03-02 17:36:32.494247: I tensorflow/stream_executor/cuda/cuda_gpu_executor.cc:936] successful NUMA node read from SysFS had negative value (-1), but there must be at least one NUMA node, so returning NUMA node zero\n",
      "2022-03-02 17:36:32.498103: I tensorflow/core/platform/cpu_feature_guard.cc:151] This TensorFlow binary is optimized with oneAPI Deep Neural Network Library (oneDNN) to use the following CPU instructions in performance-critical operations:  AVX2 AVX512F FMA\n",
      "To enable them in other operations, rebuild TensorFlow with the appropriate compiler flags.\n",
      "2022-03-02 17:36:32.498928: I tensorflow/stream_executor/cuda/cuda_gpu_executor.cc:936] successful NUMA node read from SysFS had negative value (-1), but there must be at least one NUMA node, so returning NUMA node zero\n",
      "2022-03-02 17:36:32.499026: I tensorflow/stream_executor/cuda/cuda_gpu_executor.cc:936] successful NUMA node read from SysFS had negative value (-1), but there must be at least one NUMA node, so returning NUMA node zero\n",
      "2022-03-02 17:36:32.499102: I tensorflow/stream_executor/cuda/cuda_gpu_executor.cc:936] successful NUMA node read from SysFS had negative value (-1), but there must be at least one NUMA node, so returning NUMA node zero\n",
      "2022-03-02 17:36:33.000311: I tensorflow/stream_executor/cuda/cuda_gpu_executor.cc:936] successful NUMA node read from SysFS had negative value (-1), but there must be at least one NUMA node, so returning NUMA node zero\n",
      "2022-03-02 17:36:33.000436: I tensorflow/stream_executor/cuda/cuda_gpu_executor.cc:936] successful NUMA node read from SysFS had negative value (-1), but there must be at least one NUMA node, so returning NUMA node zero\n",
      "2022-03-02 17:36:33.000532: I tensorflow/stream_executor/cuda/cuda_gpu_executor.cc:936] successful NUMA node read from SysFS had negative value (-1), but there must be at least one NUMA node, so returning NUMA node zero\n",
      "2022-03-02 17:36:33.000865: I tensorflow/core/common_runtime/gpu/gpu_device.cc:1525] Created device /job:localhost/replica:0/task:0/device:GPU:0 with 9824 MB memory:  -> device: 0, name: NVIDIA GeForce RTX 3060, pci bus id: 0000:01:00.0, compute capability: 8.6\n"
     ]
    }
   ],
   "source": [
    "# load pretrained model\n",
    "callbacks = [\n",
    "    tf.keras.callbacks.ModelCheckpoint('./best_model.h5', save_weights_only=True, save_best_only=True, mode='min'),\n",
    "    tf.keras.callbacks.ReduceLROnPlateau(),\n",
    "]\n",
    "  \n",
    "sm.set_framework('tf.keras')\n",
    "model = sm.Unet(backbone_name='resnet34', classes=1, activation=\"sigmoid\")\n",
    "model.compile(tf.keras.optimizers.Adam(0.001), loss=sm.losses.dice_loss, metrics = [sm.metrics.IOUScore(threshold=0.5), sm.metrics.FScore(threshold=0.5)])"
   ]
  },
  {
   "cell_type": "code",
   "execution_count": 29,
   "metadata": {
    "colab": {
     "base_uri": "https://localhost:8080/"
    },
    "executionInfo": {
     "elapsed": 89074,
     "status": "ok",
     "timestamp": 1640542064426,
     "user": {
      "displayName": "Maksim Krug",
      "photoUrl": "https://lh3.googleusercontent.com/a/default-user=s64",
      "userId": "18439675996386792554"
     },
     "user_tz": -180
    },
    "id": "zNEy-BeMVy6i",
    "outputId": "4abbed71-6abc-408d-e45b-18656e643c92"
   },
   "outputs": [
    {
     "name": "stderr",
     "output_type": "stream",
     "text": [
      "2022-03-02 17:36:39.782840: I tensorflow/stream_executor/cuda/cuda_dnn.cc:368] Loaded cuDNN version 8200\n",
      "2022-03-02 17:36:40.721329: I tensorflow/core/platform/default/subprocess.cc:304] Start cannot spawn child process: No such file or directory\n"
     ]
    },
    {
     "name": "stdout",
     "output_type": "stream",
     "text": [
      "133/133 [==============================] - 31s 176ms/step - loss: 0.4765 - iou_score: 0.4665 - f1-score: 0.6118 - val_loss: 0.9781 - val_iou_score: 1.9625e-10 - val_f1-score: 1.9625e-10 - lr: 0.0010\n",
      "CPU times: user 26.5 s, sys: 662 ms, total: 27.1 s\n",
      "Wall time: 31.5 s\n"
     ]
    }
   ],
   "source": [
    "%%time\n",
    "# fit model\n",
    "history = model.fit(train_dataloader,\n",
    "                    steps_per_epoch=len(train_dataloader),\n",
    "                    epochs=1,\n",
    "                    validation_data=valid_dataloader,\n",
    "                    validation_steps=len(valid_dataloader),\n",
    "                    callbacks=callbacks)"
   ]
  },
  {
   "cell_type": "markdown",
   "metadata": {
    "id": "_wydZLz_mS9J"
   },
   "source": [
    "Metrics looks not bad. Let's see on predicts and collect MAPE"
   ]
  },
  {
   "cell_type": "code",
   "execution_count": 30,
   "metadata": {
    "colab": {
     "base_uri": "https://localhost:8080/",
     "height": 368
    },
    "executionInfo": {
     "elapsed": 2906,
     "status": "ok",
     "timestamp": 1640542067319,
     "user": {
      "displayName": "Maksim Krug",
      "photoUrl": "https://lh3.googleusercontent.com/a/default-user=s64",
      "userId": "18439675996386792554"
     },
     "user_tz": -180
    },
    "id": "ZWlP_w9hlafe",
    "outputId": "cb5fcf7b-382b-40f5-fecc-449ef6fd7e9b"
   },
   "outputs": [
    {
     "data": {
      "image/png": "[encoded data removed]",
      "text/plain": [
       "<Figure size 864x720 with 2 Axes>"
      ]
     },
     "metadata": {
      "needs_background": "light"
     },
     "output_type": "display_data"
    }
   ],
   "source": [
    "# vis predict\n",
    "original_img = train_dataloader[0][0][5]\n",
    "pred = (model.predict(train_dataloader[0][0][5:6]) > 0.5)[0, ..., 0]\n",
    "\n",
    "# plot\n",
    "fig, ax = plt.subplots(1, 2, figsize=(12,10))\n",
    "ax[0].imshow(original_img)\n",
    "ax[0].set_title(\"Original\")\n",
    "ax[1].imshow(pred)\n",
    "ax[1].set_title(\"Pred\")\n",
    "plt.show()"
   ]
  },
  {
   "cell_type": "code",
   "execution_count": 34,
   "metadata": {},
   "outputs": [
    {
     "data": {
      "text/plain": [
       "array([[[[0.5921569 , 0.6039216 , 0.63529414],\n",
       "         [0.15294118, 0.16470589, 0.19607843],\n",
       "         [0.15686275, 0.16862746, 0.2       ],\n",
       "         ...,\n",
       "         [0.7137255 , 0.8       , 0.84313726],\n",
       "         [0.654902  , 0.7411765 , 0.7882353 ],\n",
       "         [0.6117647 , 0.69803923, 0.74509805]],\n",
       "\n",
       "        [[0.56078434, 0.57254905, 0.6039216 ],\n",
       "         [0.16470589, 0.1764706 , 0.20784314],\n",
       "         [0.11764706, 0.12941177, 0.16078432],\n",
       "         ...,\n",
       "         [0.6509804 , 0.7372549 , 0.78039217],\n",
       "         [0.60784316, 0.69411767, 0.7411765 ],\n",
       "         [0.58431375, 0.67058825, 0.7176471 ]],\n",
       "\n",
       "        [[0.5294118 , 0.5411765 , 0.57254905],\n",
       "         [0.21960784, 0.23137255, 0.2627451 ],\n",
       "         [0.13333334, 0.14509805, 0.1764706 ],\n",
       "         ...,\n",
       "         [0.5764706 , 0.6627451 , 0.7058824 ],\n",
       "         [0.5568628 , 0.63529414, 0.6784314 ],\n",
       "         [0.54901963, 0.627451  , 0.67058825]],\n",
       "\n",
       "        ...,\n",
       "\n",
       "        [[0.10588235, 0.09411765, 0.07843138],\n",
       "         [0.10588235, 0.09411765, 0.07843138],\n",
       "         [0.10196079, 0.09019608, 0.07450981],\n",
       "         ...,\n",
       "         [0.23137255, 0.24313726, 0.23529412],\n",
       "         [0.23137255, 0.24313726, 0.23529412],\n",
       "         [0.23137255, 0.24313726, 0.23529412]],\n",
       "\n",
       "        [[0.11372549, 0.09803922, 0.07843138],\n",
       "         [0.11372549, 0.09803922, 0.07843138],\n",
       "         [0.10588235, 0.09411765, 0.07843138],\n",
       "         ...,\n",
       "         [0.21568628, 0.23529412, 0.22745098],\n",
       "         [0.22352941, 0.24313726, 0.23529412],\n",
       "         [0.22745098, 0.24705882, 0.23921569]],\n",
       "\n",
       "        [[0.11764706, 0.10196079, 0.08235294],\n",
       "         [0.11372549, 0.09803922, 0.07843138],\n",
       "         [0.10588235, 0.09411765, 0.07843138],\n",
       "         ...,\n",
       "         [0.19607843, 0.21568628, 0.20784314],\n",
       "         [0.21176471, 0.23137255, 0.22352941],\n",
       "         [0.21960784, 0.23921569, 0.23137255]]]], dtype=float32)"
      ]
     },
     "execution_count": 34,
     "metadata": {},
     "output_type": "execute_result"
    }
   ],
   "source": [
    "train_dataloader[0][0][5:6]"
   ]
  },
  {
   "cell_type": "code",
   "execution_count": null,
   "metadata": {},
   "outputs": [],
   "source": []
  },
  {
   "cell_type": "code",
   "execution_count": 17,
   "metadata": {
    "colab": {
     "base_uri": "https://localhost:8080/",
     "height": 67,
     "referenced_widgets": [
      "77cf6cc893bd454ab1d21e11f9a4fdca",
      "2b0dd2aee88f48d3a090246974334b35",
      "b4aa14307c4f4609a84184b6b28d52f0",
      "226d222a37e24105bbe47b61bb6d4803",
      "232c9025610c408492aa2a12932dc3fc",
      "328729de2210425a8d329d4491364dfd",
      "a933a9eeccb945bea541dfc61d621ab9",
      "1a6529f21b9543d095d1237209f644ac",
      "849840f44c844b03b6ef6b3f654de5fd",
      "ce62cbd258ea4dcdb7016e32c8bd5a7a",
      "e7ce036c397e4753bd69b7e458ebe4d9"
     ]
    },
    "executionInfo": {
     "elapsed": 2586,
     "status": "ok",
     "timestamp": 1640542398074,
     "user": {
      "displayName": "Maksim Krug",
      "photoUrl": "https://lh3.googleusercontent.com/a/default-user=s64",
      "userId": "18439675996386792554"
     },
     "user_tz": -180
    },
    "id": "-Xc-FvHAma84",
    "outputId": "dc4b5752-6fd8-46d7-8866-ffcccb893014"
   },
   "outputs": [
    {
     "data": {
      "application/vnd.jupyter.widget-view+json": {
       "model_id": "75d905e13d06487e8fd23a02593f2a46",
       "version_major": 2,
       "version_minor": 0
      },
      "text/plain": [
       "  0%|          | 0/31 [00:00<?, ?it/s]"
      ]
     },
     "metadata": {},
     "output_type": "display_data"
    },
    {
     "name": "stdout",
     "output_type": "stream",
     "text": [
      "MAPE: 3.0\n"
     ]
    },
    {
     "data": {
      "image/png": "[encoded data removed]",
      "text/plain": [
       "<Figure size 864x720 with 3 Axes>"
      ]
     },
     "metadata": {
      "needs_background": "light"
     },
     "output_type": "display_data"
    },
    {
     "name": "stdout",
     "output_type": "stream",
     "text": [
      "MAPE: 3.0\n"
     ]
    },
    {
     "data": {
      "image/png": "[encoded data removed]",
      "text/plain": [
       "<Figure size 864x720 with 3 Axes>"
      ]
     },
     "metadata": {
      "needs_background": "light"
     },
     "output_type": "display_data"
    },
    {
     "name": "stdout",
     "output_type": "stream",
     "text": [
      "MeanAPE: 0.13308606755165245, MedianAPE: 0.039230769230769236\n"
     ]
    }
   ],
   "source": [
    "# Collect MAPE\n",
    "iters_num = 0\n",
    "MAPE = []\n",
    "\n",
    "for img in tqdm(valid_dataloader):\n",
    "  for i in range(img[0].shape[0]):\n",
    "    img_original = img[0][i:i+1]\n",
    "    pred = (model.predict(img_original) > 0.5)[0, ..., 0]\n",
    "    gt = img[1][i]\n",
    "    # by connected components\n",
    "    num_preds, _ = cv2.connectedComponents(pred.astype(np.uint8))\n",
    "    num_gt, _ = cv2.connectedComponents(gt.astype(np.uint8))\n",
    "    num_preds -= 1\n",
    "    num_gt -= 1\n",
    "    mape_temp = abs((num_gt - num_preds) / num_gt)\n",
    "    MAPE.append(mape_temp)\n",
    "\n",
    "    if mape_temp > 2:\n",
    "      # plot\n",
    "      print(f\"MAPE: {mape_temp}\")\n",
    "      fig, ax = plt.subplots(1, 3, figsize=(12,10))\n",
    "      ax[0].imshow(img_original[0])\n",
    "      ax[0].set_title(\"Original\")\n",
    "      ax[1].imshow(gt[..., 0])\n",
    "      ax[1].set_title(\"GT\")\n",
    "      ax[2].imshow(pred)\n",
    "      ax[2].set_title(\"Pred\")\n",
    "      plt.show()\n",
    "\n",
    "    # update iters_num\n",
    "    iters_num += 1\n",
    "\n",
    "print(f\"MeanAPE: {np.mean(MAPE)}, MedianAPE: {np.median(MAPE)}\")"
   ]
  },
  {
   "cell_type": "code",
   "execution_count": 18,
   "metadata": {
    "colab": {
     "base_uri": "https://localhost:8080/",
     "height": 136,
     "referenced_widgets": [
      "c5da34c26de04df5ae01d58e43365295",
      "f41857f688af48599590dcccde3378f3",
      "acc77b407ac14fbf8ece446ec737ab22",
      "cdd164580bd64e8b945b4a8872107a08",
      "002484f9a07d43848359328055b75f2c",
      "572f82a5220d44008ccf2313c6a85d01",
      "6f43f169315e4174a121701098db4c0c",
      "04dadc5f4b694c02a3371c9f7cdd5e91",
      "abcb96d7f9e140b6827c21c07bb7e586",
      "e8d8ca234a154ac4be1c10f3830d064c",
      "aac1a3519a324e9c869c1bfd32f78824"
     ]
    },
    "executionInfo": {
     "elapsed": 11846,
     "status": "ok",
     "timestamp": 1640542417740,
     "user": {
      "displayName": "Maksim Krug",
      "photoUrl": "https://lh3.googleusercontent.com/a/default-user=s64",
      "userId": "18439675996386792554"
     },
     "user_tz": -180
    },
    "id": "Y3v_RyDALegk",
    "outputId": "226087f4-f672-4fd3-b375-60158f650335"
   },
   "outputs": [],
   "source": [
    "# Collect Test Statistics\n",
    "# Prepare data for test\n",
    "data_test, labels_test = [], []\n",
    "for img_name in test_labels:\n",
    "  metadata = test_labels[img_name]\n",
    "  # get data\n",
    "  img = cv2.imread(\"Пакеты_тест/\" + metadata[\"filename\"])\n",
    "  data_test.append(img.astype(\"float32\") / 255)\n",
    "  # get labels\n",
    "  labels_test.append(len(metadata[\"regions\"].values()))\n",
    "\n",
    "data_test = np.array(data_test)\n",
    "labels_test = np.array(labels_test)"
   ]
  },
  {
   "cell_type": "code",
   "execution_count": 19,
   "metadata": {
    "colab": {
     "base_uri": "https://localhost:8080/",
     "height": 412,
     "referenced_widgets": [
      "086b2c42421d4df2a0836c2da1077522",
      "d8d20a8d06fe40699b1b12772ee41ea4",
      "fdd49506d7f54190a6d908742c8df77f",
      "3a5d461e903646a58a4aad8e706a009a",
      "9067094617e4491fa70fa90395875430",
      "55113fb7ddc343998d2031a584d2ff62",
      "a6a5c4aa6e7f44618bc0e838841fddae",
      "8eff482b30c04cd3ada94f4a8321cd37",
      "f9a6991bab4e468f8ca5a270865464f9",
      "548da42b9c334c6cbb5eac177df2dbc8",
      "5b970fbcb3074e3d92ebf080c8fd6398"
     ]
    },
    "executionInfo": {
     "elapsed": 35757,
     "status": "error",
     "timestamp": 1640543619216,
     "user": {
      "displayName": "Maksim Krug",
      "photoUrl": "https://lh3.googleusercontent.com/a/default-user=s64",
      "userId": "18439675996386792554"
     },
     "user_tz": -180
    },
    "id": "OFa1HNuM8pHb",
    "outputId": "582dad06-9fcf-4de5-8fd7-2c390fce210d"
   },
   "outputs": [
    {
     "data": {
      "application/vnd.jupyter.widget-view+json": {
       "model_id": "eebb5914277c4164b6873e9dd08a18a8",
       "version_major": 2,
       "version_minor": 0
      },
      "text/plain": [
       "  0%|          | 0/19 [00:00<?, ?it/s]"
      ]
     },
     "metadata": {},
     "output_type": "display_data"
    },
    {
     "name": "stdout",
     "output_type": "stream",
     "text": [
      "MeanAPE: 0.6955020900593363, MedianAPE: 0.7938718662952646\n"
     ]
    }
   ],
   "source": [
    "# Collect MAPE\n",
    "iters_num = 0\n",
    "MAPE = []\n",
    "\n",
    "for idx in tqdm(range(data_test.shape[0])):\n",
    "  img = data_test[idx:idx+1]\n",
    "  # resize to the closest size\n",
    "  img = cv2.resize(img[0], (256 * (img.shape[1] // 256), 256 * (img.shape[2] // 256)))\n",
    "  img = np.expand_dims(img, 0)\n",
    "  num_preds = 0\n",
    "  for i in range(img.shape[1] // 256):\n",
    "    for j in range(img.shape[2] // 256):\n",
    "      img_crop = img[:, i*256:(i+1)*256, j*256:(j+1)*256]\n",
    "      pred = (model.predict(img_crop) > 0.5)[0, ..., 0]\n",
    "      num_preds_crop, _ = cv2.connectedComponents(pred.astype(np.uint8))\n",
    "      num_preds_crop -= 1\n",
    "      num_preds += num_preds_crop\n",
    "  num_gt = labels_test[idx]\n",
    "  mape_temp = abs((num_gt - num_preds) / num_gt)\n",
    "  MAPE.append(mape_temp)\n",
    "\n",
    "  iters_num += 1\n",
    "\n",
    "print(f\"MeanAPE: {np.mean(MAPE)}, MedianAPE: {np.median(MAPE)}\")"
   ]
  },
  {
   "cell_type": "code",
   "execution_count": null,
   "metadata": {
    "id": "qkR1kx5arMVq"
   },
   "outputs": [],
   "source": []
  },
  {
   "cell_type": "code",
   "execution_count": null,
   "metadata": {
    "id": "64oVdF2-BC7R"
   },
   "outputs": [],
   "source": []
  },
  {
   "cell_type": "code",
   "execution_count": null,
   "metadata": {
    "id": "lc3nJeooLei8"
   },
   "outputs": [],
   "source": []
  }
 ],
 "metadata": {
  "accelerator": "GPU",
  "colab": {
   "authorship_tag": "ABX9TyPpfKE9fd4Yl0qmlQrKlnhW",
   "name": "Segmentation.ipynb",
   "provenance": []
  },
  "kernelspec": {
   "display_name": "Python 3 (ipykernel)",
   "language": "python",
   "name": "python3"
  },
  "language_info": {
   "codemirror_mode": {
    "name": "ipython",
    "version": 3
   },
   "file_extension": ".py",
   "mimetype": "text/x-python",
   "name": "python",
   "nbconvert_exporter": "python",
   "pygments_lexer": "ipython3",
   "version": "3.9.7"
  },
  "widgets": {
   "application/vnd.jupyter.widget-state+json": {
    "002484f9a07d43848359328055b75f2c": {
     "model_module": "@jupyter-widgets/controls",
     "model_module_version": "1.5.0",
     "model_name": "HTMLModel",
     "state": {
      "_dom_classes": [],
      "_model_module": "@jupyter-widgets/controls",
      "_model_module_version": "1.5.0",
      "_model_name": "HTMLModel",
      "_view_count": null,
      "_view_module": "@jupyter-widgets/controls",
      "_view_module_version": "1.5.0",
      "_view_name": "HTMLView",
      "description": "",
      "description_tooltip": null,
      "layout": "IPY_MODEL_aac1a3519a324e9c869c1bfd32f78824",
      "placeholder": "​",
      "style": "IPY_MODEL_e8d8ca234a154ac4be1c10f3830d064c",
      "value": " 0/19 [00:00&lt;?, ?it/s]"
     }
    },
    "04dadc5f4b694c02a3371c9f7cdd5e91": {
     "model_module": "@jupyter-widgets/controls",
     "model_module_version": "1.5.0",
     "model_name": "ProgressStyleModel",
     "state": {
      "_model_module": "@jupyter-widgets/controls",
      "_model_module_version": "1.5.0",
      "_model_name": "ProgressStyleModel",
      "_view_count": null,
      "_view_module": "@jupyter-widgets/base",
      "_view_module_version": "1.2.0",
      "_view_name": "StyleView",
      "bar_color": null,
      "description_width": ""
     }
    },
    "0525db93fb7e4353b24fb52e5b336901": {
     "model_module": "@jupyter-widgets/base",
     "model_module_version": "1.2.0",
     "model_name": "LayoutModel",
     "state": {
      "_model_module": "@jupyter-widgets/base",
      "_model_module_version": "1.2.0",
      "_model_name": "LayoutModel",
      "_view_count": null,
      "_view_module": "@jupyter-widgets/base",
      "_view_module_version": "1.2.0",
      "_view_name": "LayoutView",
      "align_content": null,
      "align_items": null,
      "align_self": null,
      "border": null,
      "bottom": null,
      "display": null,
      "flex": null,
      "flex_flow": null,
      "grid_area": null,
      "grid_auto_columns": null,
      "grid_auto_flow": null,
      "grid_auto_rows": null,
      "grid_column": null,
      "grid_gap": null,
      "grid_row": null,
      "grid_template_areas": null,
      "grid_template_columns": null,
      "grid_template_rows": null,
      "height": null,
      "justify_content": null,
      "justify_items": null,
      "left": null,
      "margin": null,
      "max_height": null,
      "max_width": null,
      "min_height": null,
      "min_width": null,
      "object_fit": null,
      "object_position": null,
      "order": null,
      "overflow": null,
      "overflow_x": null,
      "overflow_y": null,
      "padding": null,
      "right": null,
      "top": null,
      "visibility": null,
      "width": null
     }
    },
    "080c56d1a38948d5af5c71cecd6b58a1": {
     "model_module": "@jupyter-widgets/controls",
     "model_module_version": "1.5.0",
     "model_name": "FloatProgressModel",
     "state": {
      "_dom_classes": [],
      "_model_module": "@jupyter-widgets/controls",
      "_model_module_version": "1.5.0",
      "_model_name": "FloatProgressModel",
      "_view_count": null,
      "_view_module": "@jupyter-widgets/controls",
      "_view_module_version": "1.5.0",
      "_view_name": "ProgressView",
      "bar_style": "success",
      "description": "",
      "description_tooltip": null,
      "layout": "IPY_MODEL_62b65a9c1b3942e69c5f1a138c930ebe",
      "max": 4573,
      "min": 0,
      "orientation": "horizontal",
      "style": "IPY_MODEL_ff760c1c4cab45df930223cd375f5ae1",
      "value": 4573
     }
    },
    "086b2c42421d4df2a0836c2da1077522": {
     "model_module": "@jupyter-widgets/controls",
     "model_module_version": "1.5.0",
     "model_name": "HBoxModel",
     "state": {
      "_dom_classes": [],
      "_model_module": "@jupyter-widgets/controls",
      "_model_module_version": "1.5.0",
      "_model_name": "HBoxModel",
      "_view_count": null,
      "_view_module": "@jupyter-widgets/controls",
      "_view_module_version": "1.5.0",
      "_view_name": "HBoxView",
      "box_style": "",
      "children": [
       "IPY_MODEL_fdd49506d7f54190a6d908742c8df77f",
       "IPY_MODEL_3a5d461e903646a58a4aad8e706a009a",
       "IPY_MODEL_9067094617e4491fa70fa90395875430"
      ],
      "layout": "IPY_MODEL_d8d20a8d06fe40699b1b12772ee41ea4"
     }
    },
    "1a6529f21b9543d095d1237209f644ac": {
     "model_module": "@jupyter-widgets/controls",
     "model_module_version": "1.5.0",
     "model_name": "ProgressStyleModel",
     "state": {
      "_model_module": "@jupyter-widgets/controls",
      "_model_module_version": "1.5.0",
      "_model_name": "ProgressStyleModel",
      "_view_count": null,
      "_view_module": "@jupyter-widgets/base",
      "_view_module_version": "1.2.0",
      "_view_name": "StyleView",
      "bar_color": null,
      "description_width": ""
     }
    },
    "1ddcd5c1376b4405b51e9ee8d24376e5": {
     "model_module": "@jupyter-widgets/controls",
     "model_module_version": "1.5.0",
     "model_name": "HBoxModel",
     "state": {
      "_dom_classes": [],
      "_model_module": "@jupyter-widgets/controls",
      "_model_module_version": "1.5.0",
      "_model_name": "HBoxModel",
      "_view_count": null,
      "_view_module": "@jupyter-widgets/controls",
      "_view_module_version": "1.5.0",
      "_view_name": "HBoxView",
      "box_style": "",
      "children": [
       "IPY_MODEL_56df015366e04dc4a3a82db20d52c9bf",
       "IPY_MODEL_080c56d1a38948d5af5c71cecd6b58a1",
       "IPY_MODEL_46f4f38f481848f6af46a423953a6044"
      ],
      "layout": "IPY_MODEL_361fb1b2227e427dbfc7d271c48a9155"
     }
    },
    "1f8083ad299641489b1ac178efa14b0f": {
     "model_module": "@jupyter-widgets/controls",
     "model_module_version": "1.5.0",
     "model_name": "DescriptionStyleModel",
     "state": {
      "_model_module": "@jupyter-widgets/controls",
      "_model_module_version": "1.5.0",
      "_model_name": "DescriptionStyleModel",
      "_view_count": null,
      "_view_module": "@jupyter-widgets/base",
      "_view_module_version": "1.2.0",
      "_view_name": "StyleView",
      "description_width": ""
     }
    },
    "226d222a37e24105bbe47b61bb6d4803": {
     "model_module": "@jupyter-widgets/controls",
     "model_module_version": "1.5.0",
     "model_name": "FloatProgressModel",
     "state": {
      "_dom_classes": [],
      "_model_module": "@jupyter-widgets/controls",
      "_model_module_version": "1.5.0",
      "_model_name": "FloatProgressModel",
      "_view_count": null,
      "_view_module": "@jupyter-widgets/controls",
      "_view_module_version": "1.5.0",
      "_view_name": "ProgressView",
      "bar_style": "danger",
      "description": "",
      "description_tooltip": null,
      "layout": "IPY_MODEL_849840f44c844b03b6ef6b3f654de5fd",
      "max": 31,
      "min": 0,
      "orientation": "horizontal",
      "style": "IPY_MODEL_1a6529f21b9543d095d1237209f644ac",
      "value": 0
     }
    },
    "232c9025610c408492aa2a12932dc3fc": {
     "model_module": "@jupyter-widgets/controls",
     "model_module_version": "1.5.0",
     "model_name": "HTMLModel",
     "state": {
      "_dom_classes": [],
      "_model_module": "@jupyter-widgets/controls",
      "_model_module_version": "1.5.0",
      "_model_name": "HTMLModel",
      "_view_count": null,
      "_view_module": "@jupyter-widgets/controls",
      "_view_module_version": "1.5.0",
      "_view_name": "HTMLView",
      "description": "",
      "description_tooltip": null,
      "layout": "IPY_MODEL_e7ce036c397e4753bd69b7e458ebe4d9",
      "placeholder": "​",
      "style": "IPY_MODEL_ce62cbd258ea4dcdb7016e32c8bd5a7a",
      "value": " 0/31 [00:01&lt;?, ?it/s]"
     }
    },
    "2b0dd2aee88f48d3a090246974334b35": {
     "model_module": "@jupyter-widgets/base",
     "model_module_version": "1.2.0",
     "model_name": "LayoutModel",
     "state": {
      "_model_module": "@jupyter-widgets/base",
      "_model_module_version": "1.2.0",
      "_model_name": "LayoutModel",
      "_view_count": null,
      "_view_module": "@jupyter-widgets/base",
      "_view_module_version": "1.2.0",
      "_view_name": "LayoutView",
      "align_content": null,
      "align_items": null,
      "align_self": null,
      "border": null,
      "bottom": null,
      "display": null,
      "flex": null,
      "flex_flow": null,
      "grid_area": null,
      "grid_auto_columns": null,
      "grid_auto_flow": null,
      "grid_auto_rows": null,
      "grid_column": null,
      "grid_gap": null,
      "grid_row": null,
      "grid_template_areas": null,
      "grid_template_columns": null,
      "grid_template_rows": null,
      "height": null,
      "justify_content": null,
      "justify_items": null,
      "left": null,
      "margin": null,
      "max_height": null,
      "max_width": null,
      "min_height": null,
      "min_width": null,
      "object_fit": null,
      "object_position": null,
      "order": null,
      "overflow": null,
      "overflow_x": null,
      "overflow_y": null,
      "padding": null,
      "right": null,
      "top": null,
      "visibility": null,
      "width": null
     }
    },
    "328729de2210425a8d329d4491364dfd": {
     "model_module": "@jupyter-widgets/controls",
     "model_module_version": "1.5.0",
     "model_name": "DescriptionStyleModel",
     "state": {
      "_model_module": "@jupyter-widgets/controls",
      "_model_module_version": "1.5.0",
      "_model_name": "DescriptionStyleModel",
      "_view_count": null,
      "_view_module": "@jupyter-widgets/base",
      "_view_module_version": "1.2.0",
      "_view_name": "StyleView",
      "description_width": ""
     }
    },
    "361fb1b2227e427dbfc7d271c48a9155": {
     "model_module": "@jupyter-widgets/base",
     "model_module_version": "1.2.0",
     "model_name": "LayoutModel",
     "state": {
      "_model_module": "@jupyter-widgets/base",
      "_model_module_version": "1.2.0",
      "_model_name": "LayoutModel",
      "_view_count": null,
      "_view_module": "@jupyter-widgets/base",
      "_view_module_version": "1.2.0",
      "_view_name": "LayoutView",
      "align_content": null,
      "align_items": null,
      "align_self": null,
      "border": null,
      "bottom": null,
      "display": null,
      "flex": null,
      "flex_flow": null,
      "grid_area": null,
      "grid_auto_columns": null,
      "grid_auto_flow": null,
      "grid_auto_rows": null,
      "grid_column": null,
      "grid_gap": null,
      "grid_row": null,
      "grid_template_areas": null,
      "grid_template_columns": null,
      "grid_template_rows": null,
      "height": null,
      "justify_content": null,
      "justify_items": null,
      "left": null,
      "margin": null,
      "max_height": null,
      "max_width": null,
      "min_height": null,
      "min_width": null,
      "object_fit": null,
      "object_position": null,
      "order": null,
      "overflow": null,
      "overflow_x": null,
      "overflow_y": null,
      "padding": null,
      "right": null,
      "top": null,
      "visibility": null,
      "width": null
     }
    },
    "3a5d461e903646a58a4aad8e706a009a": {
     "model_module": "@jupyter-widgets/controls",
     "model_module_version": "1.5.0",
     "model_name": "FloatProgressModel",
     "state": {
      "_dom_classes": [],
      "_model_module": "@jupyter-widgets/controls",
      "_model_module_version": "1.5.0",
      "_model_name": "FloatProgressModel",
      "_view_count": null,
      "_view_module": "@jupyter-widgets/controls",
      "_view_module_version": "1.5.0",
      "_view_name": "ProgressView",
      "bar_style": "danger",
      "description": "",
      "description_tooltip": null,
      "layout": "IPY_MODEL_f9a6991bab4e468f8ca5a270865464f9",
      "max": 19,
      "min": 0,
      "orientation": "horizontal",
      "style": "IPY_MODEL_8eff482b30c04cd3ada94f4a8321cd37",
      "value": 1
     }
    },
    "46f4f38f481848f6af46a423953a6044": {
     "model_module": "@jupyter-widgets/controls",
     "model_module_version": "1.5.0",
     "model_name": "HTMLModel",
     "state": {
      "_dom_classes": [],
      "_model_module": "@jupyter-widgets/controls",
      "_model_module_version": "1.5.0",
      "_model_name": "HTMLModel",
      "_view_count": null,
      "_view_module": "@jupyter-widgets/controls",
      "_view_module_version": "1.5.0",
      "_view_name": "HTMLView",
      "description": "",
      "description_tooltip": null,
      "layout": "IPY_MODEL_858f7a18e209482590d873aff650849a",
      "placeholder": "​",
      "style": "IPY_MODEL_1f8083ad299641489b1ac178efa14b0f",
      "value": " 4573/4573 [00:03&lt;00:00, 1352.31it/s]"
     }
    },
    "548da42b9c334c6cbb5eac177df2dbc8": {
     "model_module": "@jupyter-widgets/controls",
     "model_module_version": "1.5.0",
     "model_name": "DescriptionStyleModel",
     "state": {
      "_model_module": "@jupyter-widgets/controls",
      "_model_module_version": "1.5.0",
      "_model_name": "DescriptionStyleModel",
      "_view_count": null,
      "_view_module": "@jupyter-widgets/base",
      "_view_module_version": "1.2.0",
      "_view_name": "StyleView",
      "description_width": ""
     }
    },
    "55113fb7ddc343998d2031a584d2ff62": {
     "model_module": "@jupyter-widgets/controls",
     "model_module_version": "1.5.0",
     "model_name": "DescriptionStyleModel",
     "state": {
      "_model_module": "@jupyter-widgets/controls",
      "_model_module_version": "1.5.0",
      "_model_name": "DescriptionStyleModel",
      "_view_count": null,
      "_view_module": "@jupyter-widgets/base",
      "_view_module_version": "1.2.0",
      "_view_name": "StyleView",
      "description_width": ""
     }
    },
    "56df015366e04dc4a3a82db20d52c9bf": {
     "model_module": "@jupyter-widgets/controls",
     "model_module_version": "1.5.0",
     "model_name": "HTMLModel",
     "state": {
      "_dom_classes": [],
      "_model_module": "@jupyter-widgets/controls",
      "_model_module_version": "1.5.0",
      "_model_name": "HTMLModel",
      "_view_count": null,
      "_view_module": "@jupyter-widgets/controls",
      "_view_module_version": "1.5.0",
      "_view_name": "HTMLView",
      "description": "",
      "description_tooltip": null,
      "layout": "IPY_MODEL_0525db93fb7e4353b24fb52e5b336901",
      "placeholder": "​",
      "style": "IPY_MODEL_bb2de1c39b38476d8aee0238bc6054ec",
      "value": "100%"
     }
    },
    "572f82a5220d44008ccf2313c6a85d01": {
     "model_module": "@jupyter-widgets/controls",
     "model_module_version": "1.5.0",
     "model_name": "DescriptionStyleModel",
     "state": {
      "_model_module": "@jupyter-widgets/controls",
      "_model_module_version": "1.5.0",
      "_model_name": "DescriptionStyleModel",
      "_view_count": null,
      "_view_module": "@jupyter-widgets/base",
      "_view_module_version": "1.2.0",
      "_view_name": "StyleView",
      "description_width": ""
     }
    },
    "5b970fbcb3074e3d92ebf080c8fd6398": {
     "model_module": "@jupyter-widgets/base",
     "model_module_version": "1.2.0",
     "model_name": "LayoutModel",
     "state": {
      "_model_module": "@jupyter-widgets/base",
      "_model_module_version": "1.2.0",
      "_model_name": "LayoutModel",
      "_view_count": null,
      "_view_module": "@jupyter-widgets/base",
      "_view_module_version": "1.2.0",
      "_view_name": "LayoutView",
      "align_content": null,
      "align_items": null,
      "align_self": null,
      "border": null,
      "bottom": null,
      "display": null,
      "flex": null,
      "flex_flow": null,
      "grid_area": null,
      "grid_auto_columns": null,
      "grid_auto_flow": null,
      "grid_auto_rows": null,
      "grid_column": null,
      "grid_gap": null,
      "grid_row": null,
      "grid_template_areas": null,
      "grid_template_columns": null,
      "grid_template_rows": null,
      "height": null,
      "justify_content": null,
      "justify_items": null,
      "left": null,
      "margin": null,
      "max_height": null,
      "max_width": null,
      "min_height": null,
      "min_width": null,
      "object_fit": null,
      "object_position": null,
      "order": null,
      "overflow": null,
      "overflow_x": null,
      "overflow_y": null,
      "padding": null,
      "right": null,
      "top": null,
      "visibility": null,
      "width": null
     }
    },
    "62b65a9c1b3942e69c5f1a138c930ebe": {
     "model_module": "@jupyter-widgets/base",
     "model_module_version": "1.2.0",
     "model_name": "LayoutModel",
     "state": {
      "_model_module": "@jupyter-widgets/base",
      "_model_module_version": "1.2.0",
      "_model_name": "LayoutModel",
      "_view_count": null,
      "_view_module": "@jupyter-widgets/base",
      "_view_module_version": "1.2.0",
      "_view_name": "LayoutView",
      "align_content": null,
      "align_items": null,
      "align_self": null,
      "border": null,
      "bottom": null,
      "display": null,
      "flex": null,
      "flex_flow": null,
      "grid_area": null,
      "grid_auto_columns": null,
      "grid_auto_flow": null,
      "grid_auto_rows": null,
      "grid_column": null,
      "grid_gap": null,
      "grid_row": null,
      "grid_template_areas": null,
      "grid_template_columns": null,
      "grid_template_rows": null,
      "height": null,
      "justify_content": null,
      "justify_items": null,
      "left": null,
      "margin": null,
      "max_height": null,
      "max_width": null,
      "min_height": null,
      "min_width": null,
      "object_fit": null,
      "object_position": null,
      "order": null,
      "overflow": null,
      "overflow_x": null,
      "overflow_y": null,
      "padding": null,
      "right": null,
      "top": null,
      "visibility": null,
      "width": null
     }
    },
    "6f43f169315e4174a121701098db4c0c": {
     "model_module": "@jupyter-widgets/base",
     "model_module_version": "1.2.0",
     "model_name": "LayoutModel",
     "state": {
      "_model_module": "@jupyter-widgets/base",
      "_model_module_version": "1.2.0",
      "_model_name": "LayoutModel",
      "_view_count": null,
      "_view_module": "@jupyter-widgets/base",
      "_view_module_version": "1.2.0",
      "_view_name": "LayoutView",
      "align_content": null,
      "align_items": null,
      "align_self": null,
      "border": null,
      "bottom": null,
      "display": null,
      "flex": null,
      "flex_flow": null,
      "grid_area": null,
      "grid_auto_columns": null,
      "grid_auto_flow": null,
      "grid_auto_rows": null,
      "grid_column": null,
      "grid_gap": null,
      "grid_row": null,
      "grid_template_areas": null,
      "grid_template_columns": null,
      "grid_template_rows": null,
      "height": null,
      "justify_content": null,
      "justify_items": null,
      "left": null,
      "margin": null,
      "max_height": null,
      "max_width": null,
      "min_height": null,
      "min_width": null,
      "object_fit": null,
      "object_position": null,
      "order": null,
      "overflow": null,
      "overflow_x": null,
      "overflow_y": null,
      "padding": null,
      "right": null,
      "top": null,
      "visibility": null,
      "width": null
     }
    },
    "77cf6cc893bd454ab1d21e11f9a4fdca": {
     "model_module": "@jupyter-widgets/controls",
     "model_module_version": "1.5.0",
     "model_name": "HBoxModel",
     "state": {
      "_dom_classes": [],
      "_model_module": "@jupyter-widgets/controls",
      "_model_module_version": "1.5.0",
      "_model_name": "HBoxModel",
      "_view_count": null,
      "_view_module": "@jupyter-widgets/controls",
      "_view_module_version": "1.5.0",
      "_view_name": "HBoxView",
      "box_style": "",
      "children": [
       "IPY_MODEL_b4aa14307c4f4609a84184b6b28d52f0",
       "IPY_MODEL_226d222a37e24105bbe47b61bb6d4803",
       "IPY_MODEL_232c9025610c408492aa2a12932dc3fc"
      ],
      "layout": "IPY_MODEL_2b0dd2aee88f48d3a090246974334b35"
     }
    },
    "849840f44c844b03b6ef6b3f654de5fd": {
     "model_module": "@jupyter-widgets/base",
     "model_module_version": "1.2.0",
     "model_name": "LayoutModel",
     "state": {
      "_model_module": "@jupyter-widgets/base",
      "_model_module_version": "1.2.0",
      "_model_name": "LayoutModel",
      "_view_count": null,
      "_view_module": "@jupyter-widgets/base",
      "_view_module_version": "1.2.0",
      "_view_name": "LayoutView",
      "align_content": null,
      "align_items": null,
      "align_self": null,
      "border": null,
      "bottom": null,
      "display": null,
      "flex": null,
      "flex_flow": null,
      "grid_area": null,
      "grid_auto_columns": null,
      "grid_auto_flow": null,
      "grid_auto_rows": null,
      "grid_column": null,
      "grid_gap": null,
      "grid_row": null,
      "grid_template_areas": null,
      "grid_template_columns": null,
      "grid_template_rows": null,
      "height": null,
      "justify_content": null,
      "justify_items": null,
      "left": null,
      "margin": null,
      "max_height": null,
      "max_width": null,
      "min_height": null,
      "min_width": null,
      "object_fit": null,
      "object_position": null,
      "order": null,
      "overflow": null,
      "overflow_x": null,
      "overflow_y": null,
      "padding": null,
      "right": null,
      "top": null,
      "visibility": null,
      "width": null
     }
    },
    "858f7a18e209482590d873aff650849a": {
     "model_module": "@jupyter-widgets/base",
     "model_module_version": "1.2.0",
     "model_name": "LayoutModel",
     "state": {
      "_model_module": "@jupyter-widgets/base",
      "_model_module_version": "1.2.0",
      "_model_name": "LayoutModel",
      "_view_count": null,
      "_view_module": "@jupyter-widgets/base",
      "_view_module_version": "1.2.0",
      "_view_name": "LayoutView",
      "align_content": null,
      "align_items": null,
      "align_self": null,
      "border": null,
      "bottom": null,
      "display": null,
      "flex": null,
      "flex_flow": null,
      "grid_area": null,
      "grid_auto_columns": null,
      "grid_auto_flow": null,
      "grid_auto_rows": null,
      "grid_column": null,
      "grid_gap": null,
      "grid_row": null,
      "grid_template_areas": null,
      "grid_template_columns": null,
      "grid_template_rows": null,
      "height": null,
      "justify_content": null,
      "justify_items": null,
      "left": null,
      "margin": null,
      "max_height": null,
      "max_width": null,
      "min_height": null,
      "min_width": null,
      "object_fit": null,
      "object_position": null,
      "order": null,
      "overflow": null,
      "overflow_x": null,
      "overflow_y": null,
      "padding": null,
      "right": null,
      "top": null,
      "visibility": null,
      "width": null
     }
    },
    "8eff482b30c04cd3ada94f4a8321cd37": {
     "model_module": "@jupyter-widgets/controls",
     "model_module_version": "1.5.0",
     "model_name": "ProgressStyleModel",
     "state": {
      "_model_module": "@jupyter-widgets/controls",
      "_model_module_version": "1.5.0",
      "_model_name": "ProgressStyleModel",
      "_view_count": null,
      "_view_module": "@jupyter-widgets/base",
      "_view_module_version": "1.2.0",
      "_view_name": "StyleView",
      "bar_color": null,
      "description_width": ""
     }
    },
    "9067094617e4491fa70fa90395875430": {
     "model_module": "@jupyter-widgets/controls",
     "model_module_version": "1.5.0",
     "model_name": "HTMLModel",
     "state": {
      "_dom_classes": [],
      "_model_module": "@jupyter-widgets/controls",
      "_model_module_version": "1.5.0",
      "_model_name": "HTMLModel",
      "_view_count": null,
      "_view_module": "@jupyter-widgets/controls",
      "_view_module_version": "1.5.0",
      "_view_name": "HTMLView",
      "description": "",
      "description_tooltip": null,
      "layout": "IPY_MODEL_5b970fbcb3074e3d92ebf080c8fd6398",
      "placeholder": "​",
      "style": "IPY_MODEL_548da42b9c334c6cbb5eac177df2dbc8",
      "value": " 1/19 [00:35&lt;05:56, 19.80s/it]"
     }
    },
    "a6a5c4aa6e7f44618bc0e838841fddae": {
     "model_module": "@jupyter-widgets/base",
     "model_module_version": "1.2.0",
     "model_name": "LayoutModel",
     "state": {
      "_model_module": "@jupyter-widgets/base",
      "_model_module_version": "1.2.0",
      "_model_name": "LayoutModel",
      "_view_count": null,
      "_view_module": "@jupyter-widgets/base",
      "_view_module_version": "1.2.0",
      "_view_name": "LayoutView",
      "align_content": null,
      "align_items": null,
      "align_self": null,
      "border": null,
      "bottom": null,
      "display": null,
      "flex": null,
      "flex_flow": null,
      "grid_area": null,
      "grid_auto_columns": null,
      "grid_auto_flow": null,
      "grid_auto_rows": null,
      "grid_column": null,
      "grid_gap": null,
      "grid_row": null,
      "grid_template_areas": null,
      "grid_template_columns": null,
      "grid_template_rows": null,
      "height": null,
      "justify_content": null,
      "justify_items": null,
      "left": null,
      "margin": null,
      "max_height": null,
      "max_width": null,
      "min_height": null,
      "min_width": null,
      "object_fit": null,
      "object_position": null,
      "order": null,
      "overflow": null,
      "overflow_x": null,
      "overflow_y": null,
      "padding": null,
      "right": null,
      "top": null,
      "visibility": null,
      "width": null
     }
    },
    "a933a9eeccb945bea541dfc61d621ab9": {
     "model_module": "@jupyter-widgets/base",
     "model_module_version": "1.2.0",
     "model_name": "LayoutModel",
     "state": {
      "_model_module": "@jupyter-widgets/base",
      "_model_module_version": "1.2.0",
      "_model_name": "LayoutModel",
      "_view_count": null,
      "_view_module": "@jupyter-widgets/base",
      "_view_module_version": "1.2.0",
      "_view_name": "LayoutView",
      "align_content": null,
      "align_items": null,
      "align_self": null,
      "border": null,
      "bottom": null,
      "display": null,
      "flex": null,
      "flex_flow": null,
      "grid_area": null,
      "grid_auto_columns": null,
      "grid_auto_flow": null,
      "grid_auto_rows": null,
      "grid_column": null,
      "grid_gap": null,
      "grid_row": null,
      "grid_template_areas": null,
      "grid_template_columns": null,
      "grid_template_rows": null,
      "height": null,
      "justify_content": null,
      "justify_items": null,
      "left": null,
      "margin": null,
      "max_height": null,
      "max_width": null,
      "min_height": null,
      "min_width": null,
      "object_fit": null,
      "object_position": null,
      "order": null,
      "overflow": null,
      "overflow_x": null,
      "overflow_y": null,
      "padding": null,
      "right": null,
      "top": null,
      "visibility": null,
      "width": null
     }
    },
    "aac1a3519a324e9c869c1bfd32f78824": {
     "model_module": "@jupyter-widgets/base",
     "model_module_version": "1.2.0",
     "model_name": "LayoutModel",
     "state": {
      "_model_module": "@jupyter-widgets/base",
      "_model_module_version": "1.2.0",
      "_model_name": "LayoutModel",
      "_view_count": null,
      "_view_module": "@jupyter-widgets/base",
      "_view_module_version": "1.2.0",
      "_view_name": "LayoutView",
      "align_content": null,
      "align_items": null,
      "align_self": null,
      "border": null,
      "bottom": null,
      "display": null,
      "flex": null,
      "flex_flow": null,
      "grid_area": null,
      "grid_auto_columns": null,
      "grid_auto_flow": null,
      "grid_auto_rows": null,
      "grid_column": null,
      "grid_gap": null,
      "grid_row": null,
      "grid_template_areas": null,
      "grid_template_columns": null,
      "grid_template_rows": null,
      "height": null,
      "justify_content": null,
      "justify_items": null,
      "left": null,
      "margin": null,
      "max_height": null,
      "max_width": null,
      "min_height": null,
      "min_width": null,
      "object_fit": null,
      "object_position": null,
      "order": null,
      "overflow": null,
      "overflow_x": null,
      "overflow_y": null,
      "padding": null,
      "right": null,
      "top": null,
      "visibility": null,
      "width": null
     }
    },
    "abcb96d7f9e140b6827c21c07bb7e586": {
     "model_module": "@jupyter-widgets/base",
     "model_module_version": "1.2.0",
     "model_name": "LayoutModel",
     "state": {
      "_model_module": "@jupyter-widgets/base",
      "_model_module_version": "1.2.0",
      "_model_name": "LayoutModel",
      "_view_count": null,
      "_view_module": "@jupyter-widgets/base",
      "_view_module_version": "1.2.0",
      "_view_name": "LayoutView",
      "align_content": null,
      "align_items": null,
      "align_self": null,
      "border": null,
      "bottom": null,
      "display": null,
      "flex": null,
      "flex_flow": null,
      "grid_area": null,
      "grid_auto_columns": null,
      "grid_auto_flow": null,
      "grid_auto_rows": null,
      "grid_column": null,
      "grid_gap": null,
      "grid_row": null,
      "grid_template_areas": null,
      "grid_template_columns": null,
      "grid_template_rows": null,
      "height": null,
      "justify_content": null,
      "justify_items": null,
      "left": null,
      "margin": null,
      "max_height": null,
      "max_width": null,
      "min_height": null,
      "min_width": null,
      "object_fit": null,
      "object_position": null,
      "order": null,
      "overflow": null,
      "overflow_x": null,
      "overflow_y": null,
      "padding": null,
      "right": null,
      "top": null,
      "visibility": null,
      "width": null
     }
    },
    "acc77b407ac14fbf8ece446ec737ab22": {
     "model_module": "@jupyter-widgets/controls",
     "model_module_version": "1.5.0",
     "model_name": "HTMLModel",
     "state": {
      "_dom_classes": [],
      "_model_module": "@jupyter-widgets/controls",
      "_model_module_version": "1.5.0",
      "_model_name": "HTMLModel",
      "_view_count": null,
      "_view_module": "@jupyter-widgets/controls",
      "_view_module_version": "1.5.0",
      "_view_name": "HTMLView",
      "description": "",
      "description_tooltip": null,
      "layout": "IPY_MODEL_6f43f169315e4174a121701098db4c0c",
      "placeholder": "​",
      "style": "IPY_MODEL_572f82a5220d44008ccf2313c6a85d01",
      "value": "  0%"
     }
    },
    "b4aa14307c4f4609a84184b6b28d52f0": {
     "model_module": "@jupyter-widgets/controls",
     "model_module_version": "1.5.0",
     "model_name": "HTMLModel",
     "state": {
      "_dom_classes": [],
      "_model_module": "@jupyter-widgets/controls",
      "_model_module_version": "1.5.0",
      "_model_name": "HTMLModel",
      "_view_count": null,
      "_view_module": "@jupyter-widgets/controls",
      "_view_module_version": "1.5.0",
      "_view_name": "HTMLView",
      "description": "",
      "description_tooltip": null,
      "layout": "IPY_MODEL_a933a9eeccb945bea541dfc61d621ab9",
      "placeholder": "​",
      "style": "IPY_MODEL_328729de2210425a8d329d4491364dfd",
      "value": "  0%"
     }
    },
    "bb2de1c39b38476d8aee0238bc6054ec": {
     "model_module": "@jupyter-widgets/controls",
     "model_module_version": "1.5.0",
     "model_name": "DescriptionStyleModel",
     "state": {
      "_model_module": "@jupyter-widgets/controls",
      "_model_module_version": "1.5.0",
      "_model_name": "DescriptionStyleModel",
      "_view_count": null,
      "_view_module": "@jupyter-widgets/base",
      "_view_module_version": "1.2.0",
      "_view_name": "StyleView",
      "description_width": ""
     }
    },
    "c5da34c26de04df5ae01d58e43365295": {
     "model_module": "@jupyter-widgets/controls",
     "model_module_version": "1.5.0",
     "model_name": "HBoxModel",
     "state": {
      "_dom_classes": [],
      "_model_module": "@jupyter-widgets/controls",
      "_model_module_version": "1.5.0",
      "_model_name": "HBoxModel",
      "_view_count": null,
      "_view_module": "@jupyter-widgets/controls",
      "_view_module_version": "1.5.0",
      "_view_name": "HBoxView",
      "box_style": "",
      "children": [
       "IPY_MODEL_acc77b407ac14fbf8ece446ec737ab22",
       "IPY_MODEL_cdd164580bd64e8b945b4a8872107a08",
       "IPY_MODEL_002484f9a07d43848359328055b75f2c"
      ],
      "layout": "IPY_MODEL_f41857f688af48599590dcccde3378f3"
     }
    },
    "cdd164580bd64e8b945b4a8872107a08": {
     "model_module": "@jupyter-widgets/controls",
     "model_module_version": "1.5.0",
     "model_name": "FloatProgressModel",
     "state": {
      "_dom_classes": [],
      "_model_module": "@jupyter-widgets/controls",
      "_model_module_version": "1.5.0",
      "_model_name": "FloatProgressModel",
      "_view_count": null,
      "_view_module": "@jupyter-widgets/controls",
      "_view_module_version": "1.5.0",
      "_view_name": "ProgressView",
      "bar_style": "danger",
      "description": "",
      "description_tooltip": null,
      "layout": "IPY_MODEL_abcb96d7f9e140b6827c21c07bb7e586",
      "max": 19,
      "min": 0,
      "orientation": "horizontal",
      "style": "IPY_MODEL_04dadc5f4b694c02a3371c9f7cdd5e91",
      "value": 0
     }
    },
    "ce62cbd258ea4dcdb7016e32c8bd5a7a": {
     "model_module": "@jupyter-widgets/controls",
     "model_module_version": "1.5.0",
     "model_name": "DescriptionStyleModel",
     "state": {
      "_model_module": "@jupyter-widgets/controls",
      "_model_module_version": "1.5.0",
      "_model_name": "DescriptionStyleModel",
      "_view_count": null,
      "_view_module": "@jupyter-widgets/base",
      "_view_module_version": "1.2.0",
      "_view_name": "StyleView",
      "description_width": ""
     }
    },
    "d8d20a8d06fe40699b1b12772ee41ea4": {
     "model_module": "@jupyter-widgets/base",
     "model_module_version": "1.2.0",
     "model_name": "LayoutModel",
     "state": {
      "_model_module": "@jupyter-widgets/base",
      "_model_module_version": "1.2.0",
      "_model_name": "LayoutModel",
      "_view_count": null,
      "_view_module": "@jupyter-widgets/base",
      "_view_module_version": "1.2.0",
      "_view_name": "LayoutView",
      "align_content": null,
      "align_items": null,
      "align_self": null,
      "border": null,
      "bottom": null,
      "display": null,
      "flex": null,
      "flex_flow": null,
      "grid_area": null,
      "grid_auto_columns": null,
      "grid_auto_flow": null,
      "grid_auto_rows": null,
      "grid_column": null,
      "grid_gap": null,
      "grid_row": null,
      "grid_template_areas": null,
      "grid_template_columns": null,
      "grid_template_rows": null,
      "height": null,
      "justify_content": null,
      "justify_items": null,
      "left": null,
      "margin": null,
      "max_height": null,
      "max_width": null,
      "min_height": null,
      "min_width": null,
      "object_fit": null,
      "object_position": null,
      "order": null,
      "overflow": null,
      "overflow_x": null,
      "overflow_y": null,
      "padding": null,
      "right": null,
      "top": null,
      "visibility": null,
      "width": null
     }
    },
    "e7ce036c397e4753bd69b7e458ebe4d9": {
     "model_module": "@jupyter-widgets/base",
     "model_module_version": "1.2.0",
     "model_name": "LayoutModel",
     "state": {
      "_model_module": "@jupyter-widgets/base",
      "_model_module_version": "1.2.0",
      "_model_name": "LayoutModel",
      "_view_count": null,
      "_view_module": "@jupyter-widgets/base",
      "_view_module_version": "1.2.0",
      "_view_name": "LayoutView",
      "align_content": null,
      "align_items": null,
      "align_self": null,
      "border": null,
      "bottom": null,
      "display": null,
      "flex": null,
      "flex_flow": null,
      "grid_area": null,
      "grid_auto_columns": null,
      "grid_auto_flow": null,
      "grid_auto_rows": null,
      "grid_column": null,
      "grid_gap": null,
      "grid_row": null,
      "grid_template_areas": null,
      "grid_template_columns": null,
      "grid_template_rows": null,
      "height": null,
      "justify_content": null,
      "justify_items": null,
      "left": null,
      "margin": null,
      "max_height": null,
      "max_width": null,
      "min_height": null,
      "min_width": null,
      "object_fit": null,
      "object_position": null,
      "order": null,
      "overflow": null,
      "overflow_x": null,
      "overflow_y": null,
      "padding": null,
      "right": null,
      "top": null,
      "visibility": null,
      "width": null
     }
    },
    "e8d8ca234a154ac4be1c10f3830d064c": {
     "model_module": "@jupyter-widgets/controls",
     "model_module_version": "1.5.0",
     "model_name": "DescriptionStyleModel",
     "state": {
      "_model_module": "@jupyter-widgets/controls",
      "_model_module_version": "1.5.0",
      "_model_name": "DescriptionStyleModel",
      "_view_count": null,
      "_view_module": "@jupyter-widgets/base",
      "_view_module_version": "1.2.0",
      "_view_name": "StyleView",
      "description_width": ""
     }
    },
    "f41857f688af48599590dcccde3378f3": {
     "model_module": "@jupyter-widgets/base",
     "model_module_version": "1.2.0",
     "model_name": "LayoutModel",
     "state": {
      "_model_module": "@jupyter-widgets/base",
      "_model_module_version": "1.2.0",
      "_model_name": "LayoutModel",
      "_view_count": null,
      "_view_module": "@jupyter-widgets/base",
      "_view_module_version": "1.2.0",
      "_view_name": "LayoutView",
      "align_content": null,
      "align_items": null,
      "align_self": null,
      "border": null,
      "bottom": null,
      "display": null,
      "flex": null,
      "flex_flow": null,
      "grid_area": null,
      "grid_auto_columns": null,
      "grid_auto_flow": null,
      "grid_auto_rows": null,
      "grid_column": null,
      "grid_gap": null,
      "grid_row": null,
      "grid_template_areas": null,
      "grid_template_columns": null,
      "grid_template_rows": null,
      "height": null,
      "justify_content": null,
      "justify_items": null,
      "left": null,
      "margin": null,
      "max_height": null,
      "max_width": null,
      "min_height": null,
      "min_width": null,
      "object_fit": null,
      "object_position": null,
      "order": null,
      "overflow": null,
      "overflow_x": null,
      "overflow_y": null,
      "padding": null,
      "right": null,
      "top": null,
      "visibility": null,
      "width": null
     }
    },
    "f9a6991bab4e468f8ca5a270865464f9": {
     "model_module": "@jupyter-widgets/base",
     "model_module_version": "1.2.0",
     "model_name": "LayoutModel",
     "state": {
      "_model_module": "@jupyter-widgets/base",
      "_model_module_version": "1.2.0",
      "_model_name": "LayoutModel",
      "_view_count": null,
      "_view_module": "@jupyter-widgets/base",
      "_view_module_version": "1.2.0",
      "_view_name": "LayoutView",
      "align_content": null,
      "align_items": null,
      "align_self": null,
      "border": null,
      "bottom": null,
      "display": null,
      "flex": null,
      "flex_flow": null,
      "grid_area": null,
      "grid_auto_columns": null,
      "grid_auto_flow": null,
      "grid_auto_rows": null,
      "grid_column": null,
      "grid_gap": null,
      "grid_row": null,
      "grid_template_areas": null,
      "grid_template_columns": null,
      "grid_template_rows": null,
      "height": null,
      "justify_content": null,
      "justify_items": null,
      "left": null,
      "margin": null,
      "max_height": null,
      "max_width": null,
      "min_height": null,
      "min_width": null,
      "object_fit": null,
      "object_position": null,
      "order": null,
      "overflow": null,
      "overflow_x": null,
      "overflow_y": null,
      "padding": null,
      "right": null,
      "top": null,
      "visibility": null,
      "width": null
     }
    },
    "fdd49506d7f54190a6d908742c8df77f": {
     "model_module": "@jupyter-widgets/controls",
     "model_module_version": "1.5.0",
     "model_name": "HTMLModel",
     "state": {
      "_dom_classes": [],
      "_model_module": "@jupyter-widgets/controls",
      "_model_module_version": "1.5.0",
      "_model_name": "HTMLModel",
      "_view_count": null,
      "_view_module": "@jupyter-widgets/controls",
      "_view_module_version": "1.5.0",
      "_view_name": "HTMLView",
      "description": "",
      "description_tooltip": null,
      "layout": "IPY_MODEL_a6a5c4aa6e7f44618bc0e838841fddae",
      "placeholder": "​",
      "style": "IPY_MODEL_55113fb7ddc343998d2031a584d2ff62",
      "value": "  5%"
     }
    },
    "ff760c1c4cab45df930223cd375f5ae1": {
     "model_module": "@jupyter-widgets/controls",
     "model_module_version": "1.5.0",
     "model_name": "ProgressStyleModel",
     "state": {
      "_model_module": "@jupyter-widgets/controls",
      "_model_module_version": "1.5.0",
      "_model_name": "ProgressStyleModel",
      "_view_count": null,
      "_view_module": "@jupyter-widgets/base",
      "_view_module_version": "1.2.0",
      "_view_name": "StyleView",
      "bar_color": null,
      "description_width": ""
     }
    }
   }
  }
 },
 "nbformat": 4,
 "nbformat_minor": 1
}
