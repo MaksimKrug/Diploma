{
 "cells": [
  {
   "cell_type": "markdown",
   "id": "dcde790b",
   "metadata": {},
   "source": [
    "## Data"
   ]
  },
  {
   "cell_type": "code",
   "execution_count": null,
   "id": "57497eae",
   "metadata": {},
   "outputs": [],
   "source": [
    "from data import get_data_paths, celeb2npy, CustomDataset\n",
    "from torch.utils.data import Dataset, DataLoader\n",
    "from sklearn.model_selection import train_test_split\n",
    "import numpy as np\n",
    "\n",
    "from warnings import filterwarnings\n",
    "filterwarnings(\"ignore\")"
   ]
  },
  {
   "cell_type": "code",
   "execution_count": null,
   "id": "8ec5bddc",
   "metadata": {},
   "outputs": [],
   "source": [
    "%%time\n",
    "# get data paths\n",
    "data_paths = get_data_paths()\n",
    "# np.random.shuffle(data_paths)\n",
    "# data_paths = data_paths[:10000]\n",
    "\n",
    "# split data\n",
    "train_paths, test_paths = train_test_split(data_paths, test_size=0.2, random_state=42)\n",
    "test_paths, val_paths = train_test_split(test_paths, test_size=0.5, random_state=42)\n",
    "\n",
    "print(f\"Train: {len(train_paths)}, Val: {len(val_paths)}, Test: {len(test_paths)}\")\n",
    "\n",
    "# Datasets\n",
    "train_dataset = CustomDataset(train_paths)\n",
    "val_dataset = CustomDataset(val_paths)\n",
    "test_dataset = CustomDataset(test_paths)\n",
    "\n",
    "# Dataloaders\n",
    "train_dataloader = DataLoader(train_dataset, batch_size=16, shuffle=True)\n",
    "val_dataloader = DataLoader(val_dataset, batch_size=16, shuffle=True)\n",
    "test_dataloader = DataLoader(test_dataset, batch_size=1, shuffle=False)"
   ]
  },
  {
   "cell_type": "markdown",
   "id": "328b2c58",
   "metadata": {},
   "source": [
    "## Training"
   ]
  },
  {
   "cell_type": "code",
   "execution_count": null,
   "id": "0082e336",
   "metadata": {},
   "outputs": [],
   "source": [
    "from pretrained_models import PretrainedModel\n",
    "import pytorch_lightning as pl\n",
    "from shared import get_callbacks"
   ]
  },
  {
   "cell_type": "code",
   "execution_count": null,
   "id": "b616abad",
   "metadata": {},
   "outputs": [],
   "source": [
    "# utils\n",
    "epochs = 15\n",
    "loss_list = [\"BCE\", \"FocalLoss\", \"DiceFocal\"]\n",
    "backbones = [\"efficientnet-b3\", \"timm-mobilenetv3_large_075\"]"
   ]
  },
  {
   "cell_type": "markdown",
   "id": "72b12952",
   "metadata": {},
   "source": [
    "### DeepLabV3"
   ]
  },
  {
   "cell_type": "code",
   "execution_count": null,
   "id": "29a0cf61",
   "metadata": {
    "scrolled": true
   },
   "outputs": [],
   "source": [
    "arch = \"deeplabv3plus\"\n",
    "\n",
    "for loss in loss_list:\n",
    "    for encoder_name in backbones:\n",
    "        # init model\n",
    "        params = {\"lr\": 1e-4, \"weight_decay\": 0,\n",
    "                  \"loss_name\": loss, \"arch\":arch, \"encoder_name\":encoder_name}\n",
    "        callbacks, logger = get_callbacks(params)\n",
    "        model = PretrainedModel(**params)\n",
    "        \n",
    "        # train model\n",
    "        trainer = pl.Trainer(\n",
    "        gpus=1, \n",
    "        max_epochs=epochs,\n",
    "        logger=logger,\n",
    "        callbacks=callbacks\n",
    "        )\n",
    "\n",
    "        trainer.fit(\n",
    "            model, \n",
    "            train_dataloaders=train_dataloader, \n",
    "            val_dataloaders=val_dataloader,\n",
    "        )\n",
    "        \n",
    "        # evaluate\n",
    "        trainer.test(model, test_dataloader)\n",
    "        \n",
    "        del model"
   ]
  },
  {
   "cell_type": "markdown",
   "id": "f50cf25a",
   "metadata": {},
   "source": [
    "### Unet"
   ]
  },
  {
   "cell_type": "code",
   "execution_count": null,
   "id": "c489bda1",
   "metadata": {
    "scrolled": true
   },
   "outputs": [],
   "source": [
    "arch = \"Unet\"\n",
    "\n",
    "for loss in loss_list:\n",
    "    for encoder_name in backbones:\n",
    "        # init model\n",
    "        params = {\"lr\": 1e-4, \"weight_decay\": 0\n",
    "                  \"loss_name\": loss, \"arch\":arch, \"encoder_name\":encoder_name}\n",
    "        callbacks, logger = get_callbacks(params)\n",
    "        model = PretrainedModel(**params)\n",
    "        \n",
    "        # train model\n",
    "        trainer = pl.Trainer(\n",
    "        gpus=1, \n",
    "        max_epochs=epochs,\n",
    "        logger=logger,\n",
    "        callbacks=callbacks,\n",
    "        )\n",
    "\n",
    "        trainer.fit(\n",
    "            model, \n",
    "            train_dataloaders=train_dataloader, \n",
    "            val_dataloaders=val_dataloader,\n",
    "        )\n",
    "        \n",
    "        # evaluate\n",
    "        trainer.test(model, test_dataloader)\n",
    "        \n",
    "        del model"
   ]
  },
  {
   "cell_type": "code",
   "execution_count": null,
   "id": "b5d7cfd4",
   "metadata": {},
   "outputs": [],
   "source": []
  },
  {
   "cell_type": "code",
   "execution_count": null,
   "id": "0a5c7a1b",
   "metadata": {},
   "outputs": [],
   "source": []
  },
  {
   "cell_type": "code",
   "execution_count": null,
   "id": "242e3bbe",
   "metadata": {},
   "outputs": [],
   "source": []
  }
 ],
 "metadata": {
  "kernelspec": {
   "display_name": "Python 3 (ipykernel)",
   "language": "python",
   "name": "python3"
  },
  "language_info": {
   "codemirror_mode": {
    "name": "ipython",
    "version": 3
   },
   "file_extension": ".py",
   "mimetype": "text/x-python",
   "name": "python",
   "nbconvert_exporter": "python",
   "pygments_lexer": "ipython3",
   "version": "3.9.11"
  }
 },
 "nbformat": 4,
 "nbformat_minor": 5
}
