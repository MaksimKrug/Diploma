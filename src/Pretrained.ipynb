{
 "cells": [
  {
   "cell_type": "markdown",
   "id": "dcde790b",
   "metadata": {},
   "source": [
    "## Data"
   ]
  },
  {
   "cell_type": "code",
   "execution_count": null,
   "id": "57497eae",
   "metadata": {},
   "outputs": [],
   "source": [
    "from data import get_data_paths, celeb2mask, CustomDataset\n",
    "from torch.utils.data import Dataset, DataLoader\n",
    "from sklearn.model_selection import train_test_split\n",
    "import numpy as np\n",
    "import pandas as pd\n",
    "import time\n",
    "import torch\n",
    "\n",
    "from warnings import filterwarnings\n",
    "filterwarnings(\"ignore\")"
   ]
  },
  {
   "cell_type": "code",
   "execution_count": null,
   "id": "8ec5bddc",
   "metadata": {},
   "outputs": [],
   "source": [
    "%%time\n",
    "# get data paths\n",
    "data_paths = get_data_paths()\n",
    "# data_paths = [i for i in data_paths if i[0] == \"community_dataset\"]\n",
    "# data_paths = [i for i in data_paths if i[0] != \"community_dataset\"]\n",
    "np.random.shuffle(data_paths)\n",
    "data_paths = data_paths[:100]\n",
    "\n",
    "# split data\n",
    "train_paths, test_paths = train_test_split(data_paths, test_size=0.2, random_state=42)\n",
    "test_paths, val_paths = train_test_split(test_paths, test_size=0.5, random_state=42)\n",
    "\n",
    "print(f\"Train: {len(train_paths)}, Val: {len(val_paths)}, Test: {len(test_paths)}\")\n",
    "\n",
    "# Datasets\n",
    "train_dataset = CustomDataset(train_paths)\n",
    "val_dataset = CustomDataset(val_paths)\n",
    "test_dataset = CustomDataset(test_paths)\n",
    "\n",
    "# Dataloaders\n",
    "train_dataloader = DataLoader(train_dataset, batch_size=8, shuffle=True)\n",
    "val_dataloader = DataLoader(val_dataset, batch_size=8, shuffle=True)\n",
    "test_dataloader = DataLoader(test_dataset, batch_size=1, shuffle=False)"
   ]
  },
  {
   "cell_type": "markdown",
   "id": "328b2c58",
   "metadata": {},
   "source": [
    "## Training"
   ]
  },
  {
   "cell_type": "code",
   "execution_count": null,
   "id": "0082e336",
   "metadata": {},
   "outputs": [],
   "source": [
    "from pretrained_models import PretrainedModel\n",
    "import pytorch_lightning as pl\n",
    "from shared import get_callbacks"
   ]
  },
  {
   "cell_type": "code",
   "execution_count": null,
   "id": "b133cde6",
   "metadata": {},
   "outputs": [],
   "source": [
    "test_metrics = pd.DataFrame({\"model\":[], \"backbone\": [], \"optimizer\": [], \"loss\":[],\n",
    "                             \"IoU\":[], \"F1\":[], \"Inference Time\":[]})"
   ]
  },
  {
   "cell_type": "code",
   "execution_count": null,
   "id": "b616abad",
   "metadata": {},
   "outputs": [],
   "source": [
    "# utils\n",
    "epochs = 1\n",
    "weight = [  2.3083, 107.5944, 255.0750,  53.6322,   4.2954, 142.1090, 410.2553,\n",
    "          3.6461,  91.0078, 304.7269, 243.5046]\n",
    "weight = [1, 1, 1, 1, 1, 1, 1, 1, 1, 1, 1]\n",
    "weight = [0.5, 3, 3, 1, 0.5, 3, 2, 0.5, 1.5, 1.5, 1.5]\n",
    "assert len(weight) == 11\n",
    "\n",
    "loss_list = [\"BCEWeighted\", \"DiceLoss\", \"DiceBCE\", \"FocalLoss\",  \"DiceFocal\", \"BiasLoss\"]\n",
    "backbones = [\"timm-efficientnet-b1\", \"timm-mobilenetv3_large_075\"]\n",
    "optimizers_list = [\"Adam\", \"AdamP\", \"MADGRAD\"]"
   ]
  },
  {
   "cell_type": "markdown",
   "id": "f50cf25a",
   "metadata": {},
   "source": [
    "### Unet"
   ]
  },
  {
   "cell_type": "code",
   "execution_count": null,
   "id": "c489bda1",
   "metadata": {
    "scrolled": true
   },
   "outputs": [],
   "source": [
    "arch = \"Unet\"\n",
    "\n",
    "for encoder_name in backbones:\n",
    "    for loss_name in loss_list:\n",
    "        for optimizer_name in optimizers_list:\n",
    "\n",
    "            print(encoder_name, loss_name, optimizer_name)\n",
    "\n",
    "            # init model\n",
    "            params = {\"weight\":weight, \"optimizer_name\":optimizer_name,\n",
    "                      \"lr\": 1e-4, \"weight_decay\": 0,\n",
    "                      \"loss_name\": loss_name, \"arch\":arch,\n",
    "                      \"encoder_name\":encoder_name}\n",
    "            callbacks, logger = get_callbacks(params)\n",
    "            model = PretrainedModel(**params)\n",
    "\n",
    "            # train model\n",
    "            trainer = pl.Trainer(\n",
    "            gpus=1, \n",
    "            max_epochs=epochs,\n",
    "            logger=logger,\n",
    "            callbacks=callbacks,\n",
    "            )\n",
    "\n",
    "            trainer.fit(\n",
    "                model, \n",
    "                train_dataloaders=train_dataloader, \n",
    "                val_dataloaders=val_dataloader,\n",
    "            )\n",
    "\n",
    "            # evaluate\n",
    "            start_time = time.time()\n",
    "            model_metrics = trainer.test(model, test_dataloader)\n",
    "            end_time = time.time() - start_time\n",
    "\n",
    "            test_metrics = test_metrics.append({\"model\":arch, \"backbone\": encoder_name, \"loss\": loss_name,\n",
    "                                                \"optimizer\": optimizer_name,\n",
    "                                                \"IoU\":model_metrics[0][\"test_iou\"], \n",
    "                                                \"F1\":model_metrics[0][\"test_f1\"],\n",
    "                                                \"Inference Time\":end_time / test_dataset.__len__() * 1000},\n",
    "                                               ignore_index=True)\n",
    "            # save model\n",
    "            torch.save(model.state_dict(), f\"../data/models/{arch}_{encoder_name}.pt\")\n",
    "\n",
    "        \n",
    "            del model"
   ]
  },
  {
   "cell_type": "markdown",
   "id": "72b12952",
   "metadata": {},
   "source": [
    "### DeepLabV3"
   ]
  },
  {
   "cell_type": "code",
   "execution_count": null,
   "id": "29a0cf61",
   "metadata": {
    "scrolled": true
   },
   "outputs": [],
   "source": [
    "arch = \"deeplabv3plus\"\n",
    "\n",
    "for encoder_name in backbones:\n",
    "    for loss_name in loss_list:\n",
    "        for optimizer_name in optimizers_list:\n",
    "\n",
    "            print(encoder_name, loss_name, optimizer_name)\n",
    "\n",
    "            # init model\n",
    "            params = {\"weight\":weight, \"optimizer_name\":optimizer_name,\n",
    "                      \"lr\": 1e-4, \"weight_decay\": 0,\n",
    "                      \"loss_name\": loss_name, \"arch\":arch,\n",
    "                      \"encoder_name\":encoder_name}\n",
    "            callbacks, logger = get_callbacks(params)\n",
    "            model = PretrainedModel(**params)\n",
    "\n",
    "            # train model\n",
    "            trainer = pl.Trainer(\n",
    "            gpus=1, \n",
    "            max_epochs=epochs,\n",
    "            logger=logger,\n",
    "            callbacks=callbacks,\n",
    "            )\n",
    "\n",
    "            trainer.fit(\n",
    "                model, \n",
    "                train_dataloaders=train_dataloader, \n",
    "                val_dataloaders=val_dataloader,\n",
    "            )\n",
    "\n",
    "            # evaluate\n",
    "            start_time = time.time()\n",
    "            model_metrics = trainer.test(model, test_dataloader)\n",
    "            end_time = time.time() - start_time\n",
    "\n",
    "            test_metrics = test_metrics.append({\"model\":arch, \"backbone\": encoder_name, \"loss\": loss_name,\n",
    "                                                \"optimizer\": optimizer_name,\n",
    "                                                \"IoU\":model_metrics[0][\"test_iou\"], \n",
    "                                                \"F1\":model_metrics[0][\"test_f1\"],\n",
    "                                                \"Inference Time\":end_time / test_dataset.__len__() * 1000},\n",
    "                                               ignore_index=True)\n",
    "            # save model\n",
    "            torch.save(model.state_dict(), f\"../data/models/{arch}_{encoder_name}.pt\")\n",
    "        \n",
    "            del model"
   ]
  },
  {
   "cell_type": "code",
   "execution_count": null,
   "id": "c8664f20",
   "metadata": {},
   "outputs": [],
   "source": []
  },
  {
   "cell_type": "code",
   "execution_count": null,
   "id": "99cff784",
   "metadata": {},
   "outputs": [],
   "source": []
  },
  {
   "cell_type": "code",
   "execution_count": null,
   "id": "0e43dbbb",
   "metadata": {},
   "outputs": [],
   "source": []
  },
  {
   "cell_type": "code",
   "execution_count": null,
   "id": "e37c2454",
   "metadata": {},
   "outputs": [],
   "source": []
  },
  {
   "cell_type": "code",
   "execution_count": null,
   "id": "b5d7cfd4",
   "metadata": {},
   "outputs": [],
   "source": []
  },
  {
   "cell_type": "code",
   "execution_count": null,
   "id": "0a5c7a1b",
   "metadata": {},
   "outputs": [],
   "source": []
  },
  {
   "cell_type": "code",
   "execution_count": null,
   "id": "242e3bbe",
   "metadata": {},
   "outputs": [],
   "source": []
  }
 ],
 "metadata": {
  "kernelspec": {
   "display_name": "Python 3 (ipykernel)",
   "language": "python",
   "name": "python3"
  },
  "language_info": {
   "codemirror_mode": {
    "name": "ipython",
    "version": 3
   },
   "file_extension": ".py",
   "mimetype": "text/x-python",
   "name": "python",
   "nbconvert_exporter": "python",
   "pygments_lexer": "ipython3",
   "version": "3.9.11"
  }
 },
 "nbformat": 4,
 "nbformat_minor": 5
}
