{
 "cells": [
  {
   "cell_type": "code",
   "execution_count": null,
   "id": "d3338f35",
   "metadata": {},
   "outputs": [],
   "source": [
    "from data import get_data_paths, celeb2mask, CustomDataset\n",
    "from torch.utils.data import Dataset, DataLoader\n",
    "from sklearn.model_selection import train_test_split\n",
    "import numpy as np\n",
    "import pandas as pd\n",
    "import time\n",
    "import torch\n",
    "from tqdm.notebook import tqdm\n",
    "\n",
    "from warnings import filterwarnings\n",
    "filterwarnings(\"ignore\")\n",
    "\n",
    "%reload_ext autoreload\n",
    "%autoreload 2"
   ]
  },
  {
   "cell_type": "code",
   "execution_count": null,
   "id": "5addfc62",
   "metadata": {},
   "outputs": [],
   "source": [
    "epochs = 50\n",
    "test_metrics = pd.DataFrame()"
   ]
  },
  {
   "cell_type": "markdown",
   "id": "b86aefec",
   "metadata": {},
   "source": [
    "## All Classes"
   ]
  },
  {
   "cell_type": "code",
   "execution_count": null,
   "id": "90563b39",
   "metadata": {},
   "outputs": [],
   "source": [
    "%%time\n",
    "# get data paths\n",
    "data_paths = get_data_paths(celeb_img_path=\"../data/dataset_celebs/imgs_256/*.jpg\",\n",
    "                            celeb_mask_path=\"../data/dataset_celebs/masks_256/\")\n",
    "# data_paths = [i for i in data_paths if i[0] == \"community_dataset\"]\n",
    "# data_paths = [i for i in data_paths if i[0] != \"community_dataset\"]\n",
    "# np.random.shuffle(data_paths)\n",
    "# data_paths = data_paths[:100]\n",
    "\n",
    "# split data\n",
    "train_paths, test_paths = train_test_split(data_paths, test_size=0.2, random_state=42)\n",
    "test_paths, val_paths = train_test_split(test_paths, test_size=0.5, random_state=42)\n",
    "\n",
    "print(f\"Train: {len(train_paths)}, Val: {len(val_paths)}, Test: {len(test_paths)}\")\n",
    "\n",
    "# Datasets\n",
    "train_dataset = CustomDataset(train_paths, num_classes=\"all\")\n",
    "val_dataset = CustomDataset(val_paths, num_classes=\"all\")\n",
    "test_dataset = CustomDataset(test_paths, num_classes=\"all\")\n",
    "\n",
    "# Dataloaders\n",
    "torch.manual_seed(0)\n",
    "train_dataloader = DataLoader(train_dataset, batch_size=16, shuffle=True, drop_last=True)\n",
    "val_dataloader = DataLoader(val_dataset, batch_size=16, shuffle=True, drop_last=True)\n",
    "test_dataloader = DataLoader(test_dataset, batch_size=1, shuffle=False, drop_last=True)\n",
    "\n",
    "del train_dataset, val_dataset, test_dataset"
   ]
  },
  {
   "cell_type": "markdown",
   "id": "1622481c",
   "metadata": {},
   "source": [
    "### RegSeg"
   ]
  },
  {
   "cell_type": "code",
   "execution_count": null,
   "id": "616b4046",
   "metadata": {},
   "outputs": [],
   "source": [
    "from regseg import RegSeg, train_loop\n",
    "import pytorch_lightning as pl"
   ]
  },
  {
   "cell_type": "code",
   "execution_count": null,
   "id": "6c3f132a",
   "metadata": {},
   "outputs": [],
   "source": [
    "# final\n",
    "params = {\"loss_name\":\"BCEWeighted\", \"optimizer_name\":\"Adam\",\n",
    "          \"weight\": [ 0.0423,  1.2298,  4.5671,  1.4371,  0.4330,  2.7586,  7.4159,  0.0678, 0.0874, 13.7053,  4.0711],\n",
    "          \"lr\": 1e-3, \"weight_decay\":0, \"automatic_optimization\":True, \"scheduler_type\":\"Plateau\",\n",
    "         \"scheduler_patience\":3, \"num_classes\":11}\n",
    "\n",
    "# callbacks utils\n",
    "logger_name = f\"regseg_final_16\"\n",
    "logger_save_path = \"../data/logs/regseg/\"\n",
    "callback_name = f\"regseg_final_16\"\n",
    "callback_save_path = \"../data/models/regseg/\"\n",
    "# train loop\n",
    "test_metrics = train_loop(params, test_metrics, logger_name, logger_save_path, callback_name,\n",
    "                          callback_save_path, epochs, train_dataloader, val_dataloader, test_dataloader,)"
   ]
  },
  {
   "cell_type": "code",
   "execution_count": null,
   "id": "e349ff76",
   "metadata": {},
   "outputs": [],
   "source": [
    "test_metrics"
   ]
  },
  {
   "cell_type": "code",
   "execution_count": null,
   "id": "a7c57392",
   "metadata": {},
   "outputs": [],
   "source": [
    "# final + Bias Loss\n",
    "params = {\"loss_name\":\"BiasLoss\", \"optimizer_name\":\"Adam\",\n",
    "          \"weight\": [ 0.0423,  1.2298,  4.5671,  1.4371,  0.4330,  2.7586,  7.4159,  0.0678, 0.0874, 13.7053,  4.0711],\n",
    "          \"lr\": 1e-3, \"weight_decay\":0, \"automatic_optimization\":True, \"scheduler_type\":\"Plateau\",\n",
    "          \"scheduler_patience\":3, \"num_classes\":11}\n",
    "\n",
    "# callbacks utils\n",
    "logger_name = f\"regseg_final_16_bias\"\n",
    "logger_save_path = \"../data/logs/regseg/\"\n",
    "callback_name = f\"regseg_final_16_bias\"\n",
    "callback_save_path = \"../data/models/regseg/\"\n",
    "# train loop\n",
    "test_metrics = train_loop(params, test_metrics, logger_name, logger_save_path, callback_name,\n",
    "                          callback_save_path, epochs, train_dataloader, val_dataloader, test_dataloader,)"
   ]
  },
  {
   "cell_type": "code",
   "execution_count": null,
   "id": "c96d38bf",
   "metadata": {},
   "outputs": [],
   "source": [
    "test_metrics"
   ]
  },
  {
   "cell_type": "markdown",
   "id": "f8e22bac",
   "metadata": {},
   "source": [
    "### DDRNet_23_slim"
   ]
  },
  {
   "cell_type": "code",
   "execution_count": null,
   "id": "55da0ee1",
   "metadata": {},
   "outputs": [],
   "source": [
    "from ddrnet23 import DualResNet, BasicBlock, train_loop\n",
    "import pytorch_lightning as pl"
   ]
  },
  {
   "cell_type": "code",
   "execution_count": null,
   "id": "cadaaf7c",
   "metadata": {},
   "outputs": [],
   "source": [
    "# adamp + proportional weights\n",
    "params = {\"loss_name\":\"BCEWeighted\", \"optimizer_name\":\"Adam\",\n",
    "          \"weight\":[0.02335332, 2.29093098, 4.60850608, 0.95243978, 0.16392607, 3.69650905, 10.48914825, 0.05858025, 2.10530202, 4.27744651, 1.27002274],\n",
    "          \"lr\": 1e-3, \"weight_decay\":0, \"automatic_optimization\":True, \"scheduler_type\":\"Plateau\",\n",
    "         \"scheduler_patience\":3, \"num_classes\":11}\n",
    "\n",
    "# callbacks utils\n",
    "logger_name = f\"ddrnet_final_16\"\n",
    "logger_save_path = \"../data/logs/ddrnet_23_slim/\"\n",
    "callback_name = f\"ddrnet_final_16\"\n",
    "callback_save_path = \"../data/models/ddrnet_23_slim/\"\n",
    "# train loop\n",
    "test_metrics = train_loop(params, test_metrics, logger_name, logger_save_path, callback_name,\n",
    "                          callback_save_path, epochs, train_dataloader, val_dataloader, test_dataloader,\n",
    "                         model_type=\"ddrnet_23_slim\")"
   ]
  },
  {
   "cell_type": "code",
   "execution_count": null,
   "id": "b136ec14",
   "metadata": {},
   "outputs": [],
   "source": [
    "test_metrics"
   ]
  },
  {
   "cell_type": "markdown",
   "id": "b67e8f58",
   "metadata": {},
   "source": [
    "## Only Lips"
   ]
  },
  {
   "cell_type": "code",
   "execution_count": null,
   "id": "c2ac981b",
   "metadata": {},
   "outputs": [],
   "source": [
    "%%time\n",
    "# get data paths\n",
    "data_paths = get_data_paths(celeb_img_path=\"../data/dataset_celebs/imgs_256/*.jpg\",\n",
    "                            celeb_mask_path=\"../data/dataset_celebs/masks_256/\")\n",
    "# data_paths = [i for i in data_paths if i[0] == \"community_dataset\"]\n",
    "# data_paths = [i for i in data_paths if i[0] != \"community_dataset\"]\n",
    "# np.random.shuffle(data_paths)\n",
    "# data_paths = data_paths[:100]\n",
    "\n",
    "# split data\n",
    "train_paths, test_paths = train_test_split(data_paths, test_size=0.2, random_state=42)\n",
    "test_paths, val_paths = train_test_split(test_paths, test_size=0.5, random_state=42)\n",
    "\n",
    "print(f\"Train: {len(train_paths)}, Val: {len(val_paths)}, Test: {len(test_paths)}\")\n",
    "\n",
    "# Datasets\n",
    "train_dataset = CustomDataset(train_paths, num_classes=\"lips\")\n",
    "val_dataset = CustomDataset(val_paths, num_classes=\"lips\")\n",
    "test_dataset = CustomDataset(test_paths, num_classes=\"lips\")\n",
    "\n",
    "# Dataloaders\n",
    "torch.manual_seed(0)\n",
    "train_dataloader = DataLoader(train_dataset, batch_size=16, shuffle=True, drop_last=True)\n",
    "val_dataloader = DataLoader(val_dataset, batch_size=16, shuffle=True, drop_last=True)\n",
    "test_dataloader = DataLoader(test_dataset, batch_size=1, shuffle=False, drop_last=True)\n",
    "\n",
    "del train_dataset, val_dataset, test_dataset"
   ]
  },
  {
   "cell_type": "code",
   "execution_count": null,
   "id": "adcee96a",
   "metadata": {},
   "outputs": [],
   "source": [
    "# final + only lips\n",
    "params = {\"loss_name\":\"BCEWeighted\", \"optimizer_name\":\"AdamP\",\n",
    "          \"weight\": [ 0.0964, 10.3716],\n",
    "          \"lr\": 1e-3, \"weight_decay\":0, \"automatic_optimization\":True, \"scheduler_type\":\"Plateau\",\n",
    "         \"scheduler_patience\":3, \"num_classes\":2}\n",
    "\n",
    "# callbacks utils\n",
    "logger_name = f\"regseg_lips_16\"\n",
    "logger_save_path = \"../data/logs/regseg/\"\n",
    "callback_name = f\"regseg_lips_16\"\n",
    "callback_save_path = \"../data/models/regseg/\"\n",
    "# train loop\n",
    "test_metrics = train_loop(params, test_metrics, logger_name, logger_save_path, callback_name,\n",
    "                          callback_save_path, epochs, train_dataloader, val_dataloader, test_dataloader,)"
   ]
  },
  {
   "cell_type": "code",
   "execution_count": null,
   "id": "d3f4190f",
   "metadata": {},
   "outputs": [],
   "source": [
    "test_metrics"
   ]
  },
  {
   "cell_type": "code",
   "execution_count": null,
   "id": "09fa5bf7",
   "metadata": {},
   "outputs": [],
   "source": []
  },
  {
   "cell_type": "code",
   "execution_count": null,
   "id": "c061d33b",
   "metadata": {},
   "outputs": [],
   "source": []
  }
 ],
 "metadata": {
  "kernelspec": {
   "display_name": "Python 3 (ipykernel)",
   "language": "python",
   "name": "python3"
  },
  "language_info": {
   "codemirror_mode": {
    "name": "ipython",
    "version": 3
   },
   "file_extension": ".py",
   "mimetype": "text/x-python",
   "name": "python",
   "nbconvert_exporter": "python",
   "pygments_lexer": "ipython3",
   "version": "3.9.11"
  }
 },
 "nbformat": 4,
 "nbformat_minor": 5
}
