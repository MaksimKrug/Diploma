{
 "cells": [
  {
   "cell_type": "code",
   "execution_count": null,
   "id": "d3338f35",
   "metadata": {},
   "outputs": [],
   "source": [
    "from data import get_data_paths, celeb2mask, CustomDataset\n",
    "from torch.utils.data import Dataset, DataLoader\n",
    "from sklearn.model_selection import train_test_split\n",
    "import numpy as np\n",
    "import pandas as pd\n",
    "import time\n",
    "import torch\n",
    "from tqdm.notebook import tqdm\n",
    "\n",
    "from warnings import filterwarnings\n",
    "filterwarnings(\"ignore\")\n",
    "\n",
    "%reload_ext autoreload\n",
    "%autoreload 2"
   ]
  },
  {
   "cell_type": "code",
   "execution_count": null,
   "id": "5addfc62",
   "metadata": {},
   "outputs": [],
   "source": [
    "epochs = 100\n",
    "test_metrics = pd.DataFrame()"
   ]
  },
  {
   "cell_type": "markdown",
   "id": "b86aefec",
   "metadata": {},
   "source": [
    "## All Classes"
   ]
  },
  {
   "cell_type": "code",
   "execution_count": null,
   "id": "90563b39",
   "metadata": {},
   "outputs": [],
   "source": [
    "%%time\n",
    "# get data paths\n",
    "data_paths = get_data_paths(celeb_img_path=\"../data/dataset_celebs/imgs_256/*.jpg\",\n",
    "                            celeb_mask_path=\"../data/dataset_celebs/masks_256/\")\n",
    "# data_paths = [i for i in data_paths if i[0] == \"community_dataset\"]\n",
    "# data_paths = [i for i in data_paths if i[0] != \"community_dataset\"]\n",
    "# np.random.shuffle(data_paths)\n",
    "# data_paths = data_paths[:100]\n",
    "\n",
    "# split data\n",
    "train_paths, test_paths = train_test_split(data_paths, test_size=0.2, random_state=42)\n",
    "test_paths, val_paths = train_test_split(test_paths, test_size=0.5, random_state=42)\n",
    "\n",
    "print(f\"Train: {len(train_paths)}, Val: {len(val_paths)}, Test: {len(test_paths)}\")\n",
    "\n",
    "# Datasets\n",
    "train_dataset = CustomDataset(train_paths, num_classes=\"all\")\n",
    "val_dataset = CustomDataset(val_paths, num_classes=\"all\")\n",
    "test_dataset = CustomDataset(test_paths, num_classes=\"all\")\n",
    "\n",
    "# Dataloaders\n",
    "torch.manual_seed(42)\n",
    "train_dataloader = DataLoader(train_dataset, batch_size=16, shuffle=True, drop_last=True)\n",
    "val_dataloader = DataLoader(val_dataset, batch_size=16, shuffle=True, drop_last=True)\n",
    "test_dataloader = DataLoader(test_dataset, batch_size=1, shuffle=False, drop_last=True)\n",
    "\n",
    "del train_dataset, val_dataset, test_dataset"
   ]
  },
  {
   "cell_type": "markdown",
   "id": "1622481c",
   "metadata": {},
   "source": [
    "### RegSeg"
   ]
  },
  {
   "cell_type": "code",
   "execution_count": null,
   "id": "616b4046",
   "metadata": {},
   "outputs": [],
   "source": [
    "from regseg import RegSeg, train_loop\n",
    "import pytorch_lightning as pl"
   ]
  },
  {
   "cell_type": "code",
   "execution_count": null,
   "id": "6c3f132a",
   "metadata": {},
   "outputs": [],
   "source": [
    "# final\n",
    "params = {\"loss_name\":\"BCEWeighted\", \"optimizer_name\":\"Adam\",\n",
    "          \"weight\": [0.0403, 1.8895, 4.3349, 0.9494, 0.0718, 2.6287, 7.0844, 0.0643, 1.7070, 5.7402, 3.7832],\n",
    "          \"lr\": 1e-3, \"weight_decay\":0, \"automatic_optimization\":True, \"scheduler_type\":\"Plateau\",\n",
    "          \"scheduler_patience\":3, \"num_classes\":11}\n",
    "\n",
    "# callbacks utils\n",
    "logger_name = f\"regseg_final_16\"\n",
    "logger_save_path = \"../data/logs/regseg/\"\n",
    "callback_name = f\"regseg_final_16\"\n",
    "callback_save_path = \"../data/models/regseg/\"\n",
    "# train loop\n",
    "test_metrics = train_loop(params, test_metrics, logger_name, logger_save_path, callback_name,\n",
    "                          callback_save_path, epochs, train_dataloader, val_dataloader, test_dataloader,)"
   ]
  },
  {
   "cell_type": "code",
   "execution_count": null,
   "id": "e349ff76",
   "metadata": {},
   "outputs": [],
   "source": [
    "test_metrics"
   ]
  },
  {
   "cell_type": "code",
   "execution_count": null,
   "id": "29215b85",
   "metadata": {},
   "outputs": [],
   "source": [
    "# final + bias\n",
    "params = {\"loss_name\":\"BiasLoss\", \"optimizer_name\":\"Adam\",\n",
    "          \"weight\": [0.0403, 1.8895, 4.3349, 0.9494, 0.0718, 2.6287, 7.0844, 0.0643, 1.7070, 5.7402, 3.7832],\n",
    "          \"lr\": 1e-3, \"weight_decay\":0, \"automatic_optimization\":True, \"scheduler_type\":\"Plateau\",\n",
    "          \"scheduler_patience\":3, \"num_classes\":11}\n",
    "\n",
    "# callbacks utils\n",
    "logger_name = f\"regseg_final_16_bias\"\n",
    "logger_save_path = \"../data/logs/regseg/\"\n",
    "callback_name = f\"regseg_final_16_bias\"\n",
    "callback_save_path = \"../data/models/regseg/\"\n",
    "# train loop\n",
    "test_metrics = train_loop(params, test_metrics, logger_name, logger_save_path, callback_name,\n",
    "                          callback_save_path, epochs, train_dataloader, val_dataloader, test_dataloader,)"
   ]
  },
  {
   "cell_type": "code",
   "execution_count": null,
   "id": "45db6157",
   "metadata": {},
   "outputs": [],
   "source": [
    "test_metrics"
   ]
  },
  {
   "cell_type": "code",
   "execution_count": null,
   "id": "449468dd",
   "metadata": {},
   "outputs": [],
   "source": [
    "# final + focal\n",
    "params = {\"loss_name\":\"FocalLoss\", \"optimizer_name\":\"Adam\",\n",
    "          \"weight\": [0.0403, 1.8895, 4.3349, 0.9494, 0.0718, 2.6287, 7.0844, 0.0643, 1.7070, 5.7402, 3.7832],\n",
    "          \"lr\": 1e-3, \"weight_decay\":0, \"automatic_optimization\":True, \"scheduler_type\":\"Plateau\",\n",
    "          \"scheduler_patience\":3, \"num_classes\":11}\n",
    "\n",
    "# callbacks utils\n",
    "logger_name = f\"regseg_final_16_focal\"\n",
    "logger_save_path = \"../data/logs/regseg/\"\n",
    "callback_name = f\"regseg_final_16_focal\"\n",
    "callback_save_path = \"../data/models/regseg/\"\n",
    "# train loop\n",
    "test_metrics = train_loop(params, test_metrics, logger_name, logger_save_path, callback_name,\n",
    "                          callback_save_path, epochs, train_dataloader, val_dataloader, test_dataloader,)"
   ]
  },
  {
   "cell_type": "code",
   "execution_count": null,
   "id": "02fa9db8",
   "metadata": {},
   "outputs": [],
   "source": [
    "test_metrics"
   ]
  },
  {
   "cell_type": "markdown",
   "id": "445302ca",
   "metadata": {},
   "source": [
    "### Confusion matrix"
   ]
  },
  {
   "cell_type": "code",
   "execution_count": null,
   "id": "d28eeb9b",
   "metadata": {},
   "outputs": [],
   "source": [
    "from sklearn.metrics import ConfusionMatrixDisplay, confusion_matrix, f1_score, accuracy_score\n",
    "import seaborn as sns"
   ]
  },
  {
   "cell_type": "code",
   "execution_count": null,
   "id": "7f44e7d4",
   "metadata": {},
   "outputs": [],
   "source": [
    "# final\n",
    "params = {\"loss_name\":\"BCEWeighted\", \"optimizer_name\":\"Adam\",\n",
    "          \"weight\": [ 0.0423,  1.2298,  4.5671,  1.4371,  0.4330,  2.7586,  7.4159,  0.0678, 0.0874, 13.7053,  4.0711],\n",
    "          \"lr\": 1e-3, \"weight_decay\":0, \"automatic_optimization\":True, \"scheduler_type\":\"Plateau\",\n",
    "         \"scheduler_patience\":3, \"num_classes\":11}\n",
    "\n",
    "# callbacks utils\n",
    "logger_name = f\"regseg_final_16\"\n",
    "logger_save_path = \"../data/logs/regseg/\"\n",
    "callback_name = f\"regseg_final_16\"\n",
    "callback_save_path = \"../data/models/regseg/\""
   ]
  },
  {
   "cell_type": "code",
   "execution_count": null,
   "id": "552b72a4",
   "metadata": {},
   "outputs": [],
   "source": [
    "model = RegSeg(\n",
    "        loss_name=params[\"loss_name\"],\n",
    "        optimizer_name=params[\"optimizer_name\"],\n",
    "        weight=params[\"weight\"],\n",
    "        lr=params[\"lr\"],\n",
    "        weight_decay=params[\"weight_decay\"],\n",
    "        automatic_optimization=params[\"automatic_optimization\"],\n",
    "        scheduler_type=params[\"scheduler_type\"],\n",
    "        scheduler_patience=params[\"scheduler_patience\"] \n",
    "    )\n",
    "model = model.load_from_checkpoint(f\"{callback_save_path}/{callback_name}.ckpt\")\n",
    "_ = model.eval()"
   ]
  },
  {
   "cell_type": "code",
   "execution_count": null,
   "id": "3f2fe0e5",
   "metadata": {},
   "outputs": [],
   "source": [
    "score_check = []\n",
    "score_check2 = []\n",
    "\n",
    "model = model.to(\"cuda\")\n",
    "cfm = np.zeros((11, 11))\n",
    "\n",
    "for x, mask in tqdm(test_dataloader):\n",
    "    # get preds\n",
    "    logits_mask = model(x.to(\"cuda\")).to(\"cpu\")\n",
    "    # get pred_mask\n",
    "    prob_mask = logits_mask.sigmoid()\n",
    "    pred_mask = prob_mask > 0.5\n",
    "    # get new data\n",
    "    new_preds = []\n",
    "    new_mask = []\n",
    "    for i in range(11):\n",
    "        temp_pred = pred_mask[0, i].view(-1, 1).long().numpy()\n",
    "        temp_mask = mask[0, i].view(-1, 1).long().numpy()\n",
    "\n",
    "        temp_pred[temp_pred] = i\n",
    "        temp_mask[temp_mask] = i\n",
    "\n",
    "        new_preds.extend(temp_pred.reshape(1, -1)[0])\n",
    "        new_mask.extend(temp_mask.reshape(1, -1)[0])\n",
    "        \n",
    "        \n",
    "        if i == 1:\n",
    "            temp_score = f1_score(temp_pred.reshape(1, -1)[0], temp_mask.reshape(1, -1)[0], average=\"micro\")\n",
    "            temp_score2 = accuracy_score(temp_pred.reshape(1, -1)[0], temp_mask.reshape(1, -1)[0])\n",
    "            \n",
    "            score_check.append(temp_score)\n",
    "            score_check2.append(temp_score2)\n",
    "        \n",
    "    cfm_batch = confusion_matrix(new_mask, new_preds)\n",
    "    cfm += cfm_batch"
   ]
  },
  {
   "cell_type": "code",
   "execution_count": null,
   "id": "44ec0f1d",
   "metadata": {},
   "outputs": [],
   "source": [
    "cfm_final = np.zeros((11, 11))\n",
    "\n",
    "for i in range(11):\n",
    "    for j in range(11):\n",
    "        new_val = cfm[i, j] / np.sum(cfm[i])\n",
    "        cfm_final[i, j] = new_val\n",
    "        \n",
    "CLASSES = {\"background\": [0, 0, 0], \"lips\": [255, 0, 0], \"eye\": [0, 255, 0], \"nose\": [0, 0, 255],\n",
    "           \"hair\": [255, 255, 0], \"eyebrows\": [255, 0, 255], \"teeth\": [255, 255, 255], \"face\": [128, 128, 128],\n",
    "           \"ears\": [0, 255, 255], \"glasses\": [0, 128, 128], \"beard\": [255, 192, 192]}\n",
    "\n",
    "plt.figure(figsize=(16, 14))\n",
    "sns.heatmap(cfm_final, annot=True, annot_kws={\"size\": 11},\n",
    "            xticklabels=CLASSES.keys(), yticklabels=CLASSES.keys()) # font size\n",
    "\n",
    "plt.show()"
   ]
  },
  {
   "cell_type": "code",
   "execution_count": null,
   "id": "a02ed31a",
   "metadata": {},
   "outputs": [],
   "source": []
  },
  {
   "cell_type": "code",
   "execution_count": null,
   "id": "0ef52396",
   "metadata": {},
   "outputs": [],
   "source": []
  },
  {
   "cell_type": "code",
   "execution_count": null,
   "id": "e1ab3be3",
   "metadata": {},
   "outputs": [],
   "source": []
  }
 ],
 "metadata": {
  "kernelspec": {
   "display_name": "Python 3 (ipykernel)",
   "language": "python",
   "name": "python3"
  },
  "language_info": {
   "codemirror_mode": {
    "name": "ipython",
    "version": 3
   },
   "file_extension": ".py",
   "mimetype": "text/x-python",
   "name": "python",
   "nbconvert_exporter": "python",
   "pygments_lexer": "ipython3",
   "version": "3.9.11"
  }
 },
 "nbformat": 4,
 "nbformat_minor": 5
}
