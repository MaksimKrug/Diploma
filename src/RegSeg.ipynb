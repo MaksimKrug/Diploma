{
 "cells": [
  {
   "cell_type": "markdown",
   "id": "3bd4e93d",
   "metadata": {},
   "source": [
    "## Data"
   ]
  },
  {
   "cell_type": "code",
   "execution_count": null,
   "id": "f61acffc",
   "metadata": {},
   "outputs": [],
   "source": [
    "from data import get_data_paths, celeb2mask, CustomDataset\n",
    "from torch.utils.data import Dataset, DataLoader\n",
    "from sklearn.model_selection import train_test_split\n",
    "import numpy as np\n",
    "import pandas as pd\n",
    "import time\n",
    "import torch\n",
    "\n",
    "from warnings import filterwarnings\n",
    "filterwarnings(\"ignore\")\n",
    "\n",
    "%reload_ext autoreload\n",
    "%autoreload 2"
   ]
  },
  {
   "cell_type": "code",
   "execution_count": null,
   "id": "591117ce",
   "metadata": {},
   "outputs": [],
   "source": [
    "%%time\n",
    "# get data paths\n",
    "data_paths = get_data_paths(celeb_img_path=\"../data/dataset_celebs/imgs_256/*.jpg\",\n",
    "                            celeb_mask_path=\"../data/dataset_celebs/masks_256/\")\n",
    "data_paths = [i for i in data_paths if i[0] == \"community_dataset\"]\n",
    "# data_paths = [i for i in data_paths if i[0] != \"community_dataset\"]\n",
    "# np.random.shuffle(data_paths)\n",
    "# data_paths = data_paths[:100]\n",
    "\n",
    "# split data\n",
    "train_paths, test_paths = train_test_split(data_paths, test_size=0.2, random_state=42)\n",
    "test_paths, val_paths = train_test_split(test_paths, test_size=0.5, random_state=42)\n",
    "\n",
    "print(f\"Train: {len(train_paths)}, Val: {len(val_paths)}, Test: {len(test_paths)}\")\n",
    "\n",
    "# Datasets\n",
    "train_dataset = CustomDataset(train_paths)\n",
    "val_dataset = CustomDataset(val_paths)\n",
    "test_dataset = CustomDataset(test_paths)\n",
    "\n",
    "# Dataloaders\n",
    "torch.manual_seed(0)\n",
    "train_dataloader = DataLoader(train_dataset, batch_size=8, shuffle=True, drop_last=True)\n",
    "val_dataloader = DataLoader(val_dataset, batch_size=8, shuffle=True, drop_last=True)\n",
    "test_dataloader = DataLoader(test_dataset, batch_size=1, shuffle=False, drop_last=True)\n",
    "\n",
    "del train_dataset, val_dataset, test_dataset"
   ]
  },
  {
   "cell_type": "markdown",
   "id": "2771ebfa",
   "metadata": {},
   "source": [
    "## RegSeg"
   ]
  },
  {
   "cell_type": "code",
   "execution_count": null,
   "id": "a8300271",
   "metadata": {},
   "outputs": [],
   "source": [
    "from regseg import RegSeg, train_loop\n",
    "import pytorch_lightning as pl"
   ]
  },
  {
   "cell_type": "code",
   "execution_count": null,
   "id": "1902d24d",
   "metadata": {},
   "outputs": [],
   "source": [
    "epochs = 15\n",
    "test_metrics = pd.DataFrame()"
   ]
  },
  {
   "cell_type": "code",
   "execution_count": null,
   "id": "c7035f56",
   "metadata": {
    "scrolled": true
   },
   "outputs": [],
   "source": [
    "# adam + equal weights\n",
    "params = {\"loss_name\":\"BCEWeighted\", \"optimizer_name\":\"Adam\", \"weight\":[1,1,1,1,1,1,1,1,1,1,1],\n",
    "          \"lr\": 1e-3, \"weight_decay\":0, \"automatic_optimization\":True, \"scheduler_type\":\"Plateau\",\n",
    "         \"scheduler_patience\":2, \"num_classes\":11}\n",
    "\n",
    "# callbacks utils\n",
    "logger_name = f\"regseg_base\"\n",
    "logger_save_path = \"../data/logs/regseg/\"\n",
    "callback_name = f\"regseg_base\"\n",
    "callback_save_path = \"../data/models/regseg/\"\n",
    "# train loop\n",
    "test_metrics = train_loop(params, test_metrics, logger_name, logger_save_path, callback_name,\n",
    "                          callback_save_path, epochs, train_dataloader, val_dataloader, test_dataloader,)"
   ]
  },
  {
   "cell_type": "code",
   "execution_count": null,
   "id": "e5bb6fac",
   "metadata": {
    "scrolled": true
   },
   "outputs": [],
   "source": [
    "# adam + proportional weights\n",
    "params = {\"loss_name\":\"BCEWeighted\", \"optimizer_name\":\"Adam\",\n",
    "          \"weight\":[0.02335332, 2.29093098, 4.60850608, 0.95243978, 0.16392607, 3.69650905, 10.48914825, 0.05858025, 2.10530202, 4.27744651, 1.27002274],\n",
    "          \"lr\": 1e-3, \"weight_decay\":0, \"automatic_optimization\":True, \"scheduler_type\":\"Plateau\",\n",
    "         \"scheduler_patience\":2, \"num_classes\":11}\n",
    "\n",
    "# callbacks utils\n",
    "logger_name = f\"regseg_weights\"\n",
    "logger_save_path = \"../data/logs/regseg/\"\n",
    "callback_name = f\"regseg_weights\"\n",
    "callback_save_path = \"../data/models/regseg/\"\n",
    "# train loop\n",
    "test_metrics = train_loop(params, test_metrics, logger_name, logger_save_path, callback_name,\n",
    "                          callback_save_path, epochs, train_dataloader, val_dataloader, test_dataloader,)"
   ]
  },
  {
   "cell_type": "code",
   "execution_count": null,
   "id": "a86c2479",
   "metadata": {
    "scrolled": true
   },
   "outputs": [],
   "source": [
    "# adamp + proportional weights\n",
    "params = {\"loss_name\":\"BCEWeighted\", \"optimizer_name\":\"AdamP\",\n",
    "          \"weight\":[0.02335332, 2.29093098, 4.60850608, 0.95243978, 0.16392607, 3.69650905, 10.48914825, 0.05858025, 2.10530202, 4.27744651, 1.27002274],\n",
    "          \"lr\": 1e-3, \"weight_decay\":0, \"automatic_optimization\":True, \"scheduler_type\":\"Plateau\",\n",
    "         \"scheduler_patience\":2, \"num_classes\":11}\n",
    "\n",
    "# callbacks utils\n",
    "logger_name = f\"regseg_weights_adamp\"\n",
    "logger_save_path = \"../data/logs/regseg/\"\n",
    "callback_name = f\"regseg_weights_adamp\"\n",
    "callback_save_path = \"../data/models/regseg/\"\n",
    "# train loop\n",
    "test_metrics = train_loop(params, test_metrics, logger_name, logger_save_path, callback_name,\n",
    "                          callback_save_path, epochs, train_dataloader, val_dataloader, test_dataloader,)"
   ]
  },
  {
   "cell_type": "code",
   "execution_count": null,
   "id": "d4624c6d",
   "metadata": {},
   "outputs": [],
   "source": [
    "test_metrics"
   ]
  },
  {
   "cell_type": "code",
   "execution_count": null,
   "id": "0dd63820",
   "metadata": {},
   "outputs": [],
   "source": []
  },
  {
   "cell_type": "code",
   "execution_count": null,
   "id": "bbe41206",
   "metadata": {},
   "outputs": [],
   "source": []
  },
  {
   "cell_type": "code",
   "execution_count": null,
   "id": "996e37d7",
   "metadata": {},
   "outputs": [],
   "source": []
  }
 ],
 "metadata": {
  "kernelspec": {
   "display_name": "Python 3 (ipykernel)",
   "language": "python",
   "name": "python3"
  },
  "language_info": {
   "codemirror_mode": {
    "name": "ipython",
    "version": 3
   },
   "file_extension": ".py",
   "mimetype": "text/x-python",
   "name": "python",
   "nbconvert_exporter": "python",
   "pygments_lexer": "ipython3",
   "version": "3.9.11"
  }
 },
 "nbformat": 4,
 "nbformat_minor": 5
}
