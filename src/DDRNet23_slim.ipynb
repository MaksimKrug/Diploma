{
 "cells": [
  {
   "cell_type": "markdown",
   "id": "3bd4e93d",
   "metadata": {},
   "source": [
    "## Data"
   ]
  },
  {
   "cell_type": "code",
   "execution_count": null,
   "id": "f61acffc",
   "metadata": {},
   "outputs": [],
   "source": [
    "from data import get_data_paths, celeb2mask, CustomDataset\n",
    "from torch.utils.data import Dataset, DataLoader\n",
    "from sklearn.model_selection import train_test_split\n",
    "import numpy as np\n",
    "import pandas as pd\n",
    "import time\n",
    "import torch\n",
    "\n",
    "from warnings import filterwarnings\n",
    "filterwarnings(\"ignore\")\n",
    "\n",
    "%reload_ext autoreload\n",
    "%autoreload 2"
   ]
  },
  {
   "cell_type": "code",
   "execution_count": null,
   "id": "7123d83b",
   "metadata": {},
   "outputs": [],
   "source": [
    "%%time\n",
    "# get data paths\n",
    "data_paths = get_data_paths(celeb_img_path=\"../data/dataset_celebs/imgs_256/*.jpg\",\n",
    "                            celeb_mask_path=\"../data/dataset_celebs/masks_256/\")\n",
    "# data_paths = get_data_paths()\n",
    "# data_paths = [i for i in data_paths if i[0] == \"community_dataset\"]\n",
    "# data_paths = [i for i in data_paths if i[0] != \"community_dataset\"]\n",
    "np.random.seed(42)\n",
    "np.random.shuffle(data_paths)\n",
    "data_paths = data_paths[:20000]\n",
    "\n",
    "# split data\n",
    "train_paths, test_paths = train_test_split(data_paths, test_size=0.2, random_state=42)\n",
    "test_paths, val_paths = train_test_split(test_paths, test_size=0.5, random_state=42)\n",
    "\n",
    "print(f\"Train: {len(train_paths)}, Val: {len(val_paths)}, Test: {len(test_paths)}\")\n",
    "\n",
    "# Datasets\n",
    "train_dataset = CustomDataset(train_paths)\n",
    "val_dataset = CustomDataset(val_paths)\n",
    "test_dataset = CustomDataset(test_paths)\n",
    "\n",
    "# Dataloaders\n",
    "torch.manual_seed(42)\n",
    "train_dataloader = DataLoader(train_dataset, batch_size=8, shuffle=True, drop_last=True)\n",
    "val_dataloader = DataLoader(val_dataset, batch_size=8, shuffle=True, drop_last=True)\n",
    "test_dataloader = DataLoader(test_dataset, batch_size=1, shuffle=False, drop_last=True)\n",
    "\n",
    "del train_dataset, val_dataset, test_dataset"
   ]
  },
  {
   "cell_type": "markdown",
   "id": "351da6b4",
   "metadata": {},
   "source": [
    "## DDRNET-23-slim"
   ]
  },
  {
   "cell_type": "code",
   "execution_count": null,
   "id": "63aeb0f7",
   "metadata": {},
   "outputs": [],
   "source": [
    "from ddrnet23 import DualResNet, BasicBlock, train_loop\n",
    "import pytorch_lightning as pl"
   ]
  },
  {
   "cell_type": "code",
   "execution_count": null,
   "id": "aa775f80",
   "metadata": {},
   "outputs": [],
   "source": [
    "# utils\n",
    "test_metrics = pd.DataFrame()\n",
    "model_type = \"ddrnet_23_slim\"\n",
    "use_pretrained = False\n",
    "epochs = 20"
   ]
  },
  {
   "cell_type": "code",
   "execution_count": null,
   "id": "f9efe5ad",
   "metadata": {
    "scrolled": true
   },
   "outputs": [],
   "source": [
    "# adam + equal weights\n",
    "params = {\"loss_name\":\"BCEWeighted\", \"optimizer_name\":\"Adam\", \"weight\":[1,1,1,1,1,1,1,1,1,1,1],\n",
    "          \"lr\": 1e-3, \"weight_decay\":0, \"automatic_optimization\":True, \"scheduler_type\":\"Plateau\",\n",
    "         \"scheduler_patience\":3, \"num_classes\":11}\n",
    "\n",
    "# callbacks utils\n",
    "logger_name = f\"ddrnet_23_slim_base\"\n",
    "logger_save_path = \"../data/logs/ddrnet_23_slim/\"\n",
    "callback_name = f\"ddrnet_23_slim_base\"\n",
    "callback_save_path = \"../data/models/ddrnet_23_slim/\"\n",
    "# train loop\n",
    "test_metrics = train_loop(params, test_metrics, logger_name, logger_save_path, callback_name,\n",
    "                          callback_save_path, epochs, train_dataloader, val_dataloader, test_dataloader,\n",
    "                         model_type=model_type)"
   ]
  },
  {
   "cell_type": "code",
   "execution_count": null,
   "id": "d5529ad6",
   "metadata": {
    "scrolled": true
   },
   "outputs": [],
   "source": [
    "# adam + proportional weights\n",
    "params = {\"loss_name\":\"BCEWeighted\", \"optimizer_name\":\"Adam\",\n",
    "          \"weight\":[0.0403, 1.8895, 4.3349, 0.9494, 0.0718, 2.6287, 7.0844, 0.0643, 1.7070, 5.7402, 3.7832],\n",
    "          \"lr\": 1e-3, \"weight_decay\":0, \"automatic_optimization\":True, \"scheduler_type\":\"Plateau\",\n",
    "         \"scheduler_patience\":3, \"num_classes\":11}\n",
    "\n",
    "# callbacks utils\n",
    "logger_name = f\"ddrnet_23_slim_weights\"\n",
    "logger_save_path = \"../data/logs/ddrnet_23_slim/\"\n",
    "callback_name = f\"ddrnet_23_slim_weights\"\n",
    "callback_save_path = \"../data/models/ddrnet_23_slim/\"\n",
    "# train loop\n",
    "test_metrics = train_loop(params, test_metrics, logger_name, logger_save_path, callback_name,\n",
    "                          callback_save_path, epochs, train_dataloader, val_dataloader, test_dataloader,\n",
    "                         model_type=model_type)"
   ]
  },
  {
   "cell_type": "code",
   "execution_count": null,
   "id": "ea0eb01c",
   "metadata": {},
   "outputs": [],
   "source": [
    "# focalloss + proportional weights\n",
    "params = {\"loss_name\":\"FocalLoss\", \"optimizer_name\":\"Adam\",\n",
    "          \"weight\":[0.0403, 1.8895, 4.3349, 0.9494, 0.0718, 2.6287, 7.0844, 0.0643, 1.7070, 5.7402, 3.7832],\n",
    "          \"lr\": 1e-3, \"weight_decay\":0, \"automatic_optimization\":True, \"scheduler_type\":\"Plateau\",\n",
    "         \"scheduler_patience\":3, \"num_classes\":11}\n",
    "\n",
    "# callbacks utils\n",
    "logger_name = f\"ddrnet_23_slim_weights_focalloss\"\n",
    "logger_save_path = \"../data/logs/ddrnet_23_slim/\"\n",
    "callback_name = f\"ddrnet_23_slim_weights_focalloss\"\n",
    "callback_save_path = \"../data/models/ddrnet_23_slim/\"\n",
    "# train loop\n",
    "test_metrics = train_loop(params, test_metrics, logger_name, logger_save_path, callback_name,\n",
    "                          callback_save_path, epochs, train_dataloader, val_dataloader, test_dataloader,\n",
    "                         model_type=model_type)"
   ]
  },
  {
   "cell_type": "code",
   "execution_count": null,
   "id": "16bc9aa9",
   "metadata": {},
   "outputs": [],
   "source": [
    "test_metrics"
   ]
  },
  {
   "cell_type": "code",
   "execution_count": null,
   "id": "c8a2f545",
   "metadata": {},
   "outputs": [],
   "source": []
  },
  {
   "cell_type": "code",
   "execution_count": null,
   "id": "3b9e1b9e",
   "metadata": {},
   "outputs": [],
   "source": []
  },
  {
   "cell_type": "code",
   "execution_count": null,
   "id": "acf38552",
   "metadata": {},
   "outputs": [],
   "source": []
  },
  {
   "cell_type": "code",
   "execution_count": null,
   "id": "867a1373",
   "metadata": {},
   "outputs": [],
   "source": []
  },
  {
   "cell_type": "code",
   "execution_count": null,
   "id": "062e6bfe",
   "metadata": {},
   "outputs": [],
   "source": []
  },
  {
   "cell_type": "code",
   "execution_count": null,
   "id": "0cc8b2ec",
   "metadata": {},
   "outputs": [],
   "source": []
  }
 ],
 "metadata": {
  "kernelspec": {
   "display_name": "Python 3 (ipykernel)",
   "language": "python",
   "name": "python3"
  },
  "language_info": {
   "codemirror_mode": {
    "name": "ipython",
    "version": 3
   },
   "file_extension": ".py",
   "mimetype": "text/x-python",
   "name": "python",
   "nbconvert_exporter": "python",
   "pygments_lexer": "ipython3",
   "version": "3.9.11"
  }
 },
 "nbformat": 4,
 "nbformat_minor": 5
}
