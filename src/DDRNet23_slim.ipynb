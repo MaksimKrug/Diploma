{
 "cells": [
  {
   "cell_type": "markdown",
   "id": "3bd4e93d",
   "metadata": {},
   "source": [
    "## Data"
   ]
  },
  {
   "cell_type": "code",
   "execution_count": 1,
   "id": "6418c367",
   "metadata": {},
   "outputs": [],
   "source": [
    "from data import get_data_paths, Dataloder\n",
    "from sklearn.model_selection import train_test_split"
   ]
  },
  {
   "cell_type": "code",
   "execution_count": 2,
   "id": "65fff66c",
   "metadata": {},
   "outputs": [
    {
     "name": "stdout",
     "output_type": "stream",
     "text": [
      "Train: 13245, Val: 1656, Test: 1656\n",
      "CPU times: user 3.27 s, sys: 8.78 ms, total: 3.28 s\n",
      "Wall time: 3.28 s\n"
     ]
    }
   ],
   "source": [
    "%%time\n",
    "data_paths = get_data_paths()\n",
    "\n",
    "# split data\n",
    "train_paths, test_paths = train_test_split(data_paths, test_size=0.2, random_state=42)\n",
    "test_paths, val_paths = train_test_split(test_paths, test_size=0.5, random_state=42)\n",
    "\n",
    "print(f\"Train: {len(train_paths)}, Val: {len(val_paths)}, Test: {len(test_paths)}\")\n",
    "\n",
    "# Dataloaders\n",
    "train_dataloader = Dataloder(train_paths, batch_size=16, shuffle=True)\n",
    "val_dataloader = Dataloder(val_paths, batch_size=16, shuffle=True)\n",
    "test_dataloader = Dataloder(test_paths, batch_size=1, shuffle=False)"
   ]
  },
  {
   "cell_type": "markdown",
   "id": "a193c41c",
   "metadata": {},
   "source": [
    "## Model"
   ]
  },
  {
   "cell_type": "code",
   "execution_count": 3,
   "id": "c0e88f7b",
   "metadata": {},
   "outputs": [
    {
     "name": "stdout",
     "output_type": "stream",
     "text": [
      "Segmentation Models: using `keras` framework.\n"
     ]
    }
   ],
   "source": [
    "from ddrnet_23_slim import get_ddrnet_23_slim_model\n",
    "from shared import validate_model, get_callbacks"
   ]
  },
  {
   "cell_type": "code",
   "execution_count": 4,
   "id": "0b7a026e",
   "metadata": {},
   "outputs": [],
   "source": [
    "import tensorflow as tf\n",
    "\n",
    "gpu = tf.config.list_physical_devices('GPU')\n",
    "tf.config.experimental.set_memory_growth(gpu[0], True)"
   ]
  },
  {
   "cell_type": "code",
   "execution_count": 5,
   "id": "37bb1c91",
   "metadata": {
    "scrolled": true
   },
   "outputs": [
    {
     "name": "stderr",
     "output_type": "stream",
     "text": [
      "2022-04-03 16:14:02.540929: I tensorflow/core/platform/cpu_feature_guard.cc:151] This TensorFlow binary is optimized with oneAPI Deep Neural Network Library (oneDNN) to use the following CPU instructions in performance-critical operations:  AVX2 AVX512F FMA\n",
      "To enable them in other operations, rebuild TensorFlow with the appropriate compiler flags.\n",
      "2022-04-03 16:14:02.859751: I tensorflow/core/common_runtime/gpu/gpu_device.cc:1525] Created device /job:localhost/replica:0/task:0/device:GPU:0 with 10029 MB memory:  -> device: 0, name: NVIDIA GeForce RTX 3060, pci bus id: 0000:01:00.0, compute capability: 8.6\n"
     ]
    }
   ],
   "source": [
    "# get model\n",
    "model = get_ddrnet_23_slim_model()\n",
    "# get callbacks\n",
    "callbacks = get_callbacks(save_model_path=\"../data/models/ddrnet_23_slim.hs\",\n",
    "                          log_dir=\"../data/tensorboard_logs/ddrnet_23_slim/\")"
   ]
  },
  {
   "cell_type": "code",
   "execution_count": 6,
   "id": "b077dd1f",
   "metadata": {
    "scrolled": true
   },
   "outputs": [
    {
     "name": "stdout",
     "output_type": "stream",
     "text": [
      "Epoch 1/30\n"
     ]
    },
    {
     "name": "stderr",
     "output_type": "stream",
     "text": [
      "2022-04-03 16:14:06.920752: I tensorflow/stream_executor/cuda/cuda_dnn.cc:368] Loaded cuDNN version 8200\n",
      "2022-04-03 16:14:07.555352: I tensorflow/core/platform/default/subprocess.cc:304] Start cannot spawn child process: No such file or directory\n"
     ]
    },
    {
     "name": "stdout",
     "output_type": "stream",
     "text": [
      "827/827 [==============================] - 132s 153ms/step - loss: 0.5153 - iou_score: 0.3923 - f1-score: 0.5192 - val_loss: 0.3531 - val_iou_score: 0.5303 - val_f1-score: 0.6742 - lr: 0.0010\n",
      "Epoch 2/30\n",
      "827/827 [==============================] - 128s 155ms/step - loss: 0.2926 - iou_score: 0.5981 - f1-score: 0.7300 - val_loss: 0.2696 - val_iou_score: 0.6218 - val_f1-score: 0.7509 - lr: 0.0010\n",
      "Epoch 3/30\n",
      "827/827 [==============================] - 126s 153ms/step - loss: 0.2434 - iou_score: 0.6552 - f1-score: 0.7760 - val_loss: 0.2295 - val_iou_score: 0.6728 - val_f1-score: 0.7909 - lr: 0.0010\n",
      "Epoch 4/30\n",
      "827/827 [==============================] - 126s 153ms/step - loss: 0.2102 - iou_score: 0.6993 - f1-score: 0.8099 - val_loss: 0.2063 - val_iou_score: 0.7041 - val_f1-score: 0.8153 - lr: 0.0010\n",
      "Epoch 5/30\n",
      "827/827 [==============================] - 127s 153ms/step - loss: 0.1923 - iou_score: 0.7215 - f1-score: 0.8259 - val_loss: 0.1979 - val_iou_score: 0.7149 - val_f1-score: 0.8226 - lr: 0.0010\n",
      "Epoch 6/30\n",
      "827/827 [==============================] - 124s 150ms/step - loss: 0.1807 - iou_score: 0.7354 - f1-score: 0.8354 - val_loss: 0.1859 - val_iou_score: 0.7289 - val_f1-score: 0.8327 - lr: 0.0010\n",
      "Epoch 7/30\n",
      "827/827 [==============================] - 127s 153ms/step - loss: 0.1716 - iou_score: 0.7507 - f1-score: 0.8470 - val_loss: 0.1838 - val_iou_score: 0.7327 - val_f1-score: 0.8360 - lr: 0.0010\n",
      "Epoch 8/30\n",
      "827/827 [==============================] - 127s 154ms/step - loss: 0.1600 - iou_score: 0.7677 - f1-score: 0.8591 - val_loss: 0.1688 - val_iou_score: 0.7519 - val_f1-score: 0.8486 - lr: 0.0010\n",
      "Epoch 9/30\n",
      "827/827 [==============================] - 122s 147ms/step - loss: 0.1581 - iou_score: 0.7690 - f1-score: 0.8595 - val_loss: 0.1822 - val_iou_score: 0.7311 - val_f1-score: 0.8343 - lr: 0.0010\n",
      "Epoch 10/30\n",
      "827/827 [==============================] - 126s 153ms/step - loss: 0.1489 - iou_score: 0.7832 - f1-score: 0.8694 - val_loss: 0.1630 - val_iou_score: 0.7591 - val_f1-score: 0.8541 - lr: 0.0010\n",
      "Epoch 11/30\n",
      "827/827 [==============================] - 125s 152ms/step - loss: 0.1463 - iou_score: 0.7865 - f1-score: 0.8714 - val_loss: 0.1745 - val_iou_score: 0.7457 - val_f1-score: 0.8449 - lr: 0.0010\n",
      "Epoch 12/30\n",
      "827/827 [==============================] - 125s 151ms/step - loss: 0.1396 - iou_score: 0.7973 - f1-score: 0.8791 - val_loss: 0.1569 - val_iou_score: 0.7660 - val_f1-score: 0.8581 - lr: 0.0010\n",
      "Epoch 13/30\n",
      "827/827 [==============================] - 123s 149ms/step - loss: 0.1346 - iou_score: 0.8042 - f1-score: 0.8832 - val_loss: 0.1574 - val_iou_score: 0.7672 - val_f1-score: 0.8591 - lr: 0.0010\n",
      "Epoch 14/30\n",
      "827/827 [==============================] - 124s 149ms/step - loss: 0.1312 - iou_score: 0.8077 - f1-score: 0.8851 - val_loss: 0.1521 - val_iou_score: 0.7768 - val_f1-score: 0.8662 - lr: 0.0010\n",
      "Epoch 15/30\n",
      "827/827 [==============================] - 123s 149ms/step - loss: 0.1294 - iou_score: 0.8103 - f1-score: 0.8868 - val_loss: 0.1530 - val_iou_score: 0.7742 - val_f1-score: 0.8640 - lr: 0.0010\n",
      "Epoch 16/30\n",
      "827/827 [==============================] - 125s 151ms/step - loss: 0.1250 - iou_score: 0.8176 - f1-score: 0.8917 - val_loss: 0.1503 - val_iou_score: 0.7790 - val_f1-score: 0.8672 - lr: 0.0010\n",
      "Epoch 17/30\n",
      "827/827 [==============================] - 121s 146ms/step - loss: 0.1220 - iou_score: 0.8223 - f1-score: 0.8948 - val_loss: 0.1488 - val_iou_score: 0.7797 - val_f1-score: 0.8681 - lr: 0.0010\n",
      "Epoch 18/30\n",
      "827/827 [==============================] - 126s 152ms/step - loss: 0.1214 - iou_score: 0.8223 - f1-score: 0.8945 - val_loss: 0.1483 - val_iou_score: 0.7798 - val_f1-score: 0.8672 - lr: 0.0010\n",
      "Epoch 19/30\n",
      "827/827 [==============================] - 124s 150ms/step - loss: 0.1193 - iou_score: 0.8273 - f1-score: 0.8984 - val_loss: 0.1464 - val_iou_score: 0.7816 - val_f1-score: 0.8682 - lr: 0.0010\n",
      "Epoch 20/30\n",
      "827/827 [==============================] - 125s 151ms/step - loss: 0.1174 - iou_score: 0.8296 - f1-score: 0.8996 - val_loss: 0.1460 - val_iou_score: 0.7819 - val_f1-score: 0.8688 - lr: 0.0010\n",
      "Epoch 21/30\n",
      "827/827 [==============================] - 123s 149ms/step - loss: 0.1135 - iou_score: 0.8355 - f1-score: 0.9033 - val_loss: 0.1433 - val_iou_score: 0.7857 - val_f1-score: 0.8707 - lr: 0.0010\n",
      "Epoch 22/30\n",
      "827/827 [==============================] - 126s 152ms/step - loss: 0.1131 - iou_score: 0.8360 - f1-score: 0.9035 - val_loss: 0.1430 - val_iou_score: 0.7884 - val_f1-score: 0.8737 - lr: 0.0010\n",
      "Epoch 23/30\n",
      "827/827 [==============================] - 123s 149ms/step - loss: 0.1106 - iou_score: 0.8406 - f1-score: 0.9067 - val_loss: 0.1423 - val_iou_score: 0.7907 - val_f1-score: 0.8748 - lr: 0.0010\n",
      "Epoch 24/30\n",
      "827/827 [==============================] - 125s 151ms/step - loss: 0.1103 - iou_score: 0.8403 - f1-score: 0.9062 - val_loss: 0.1402 - val_iou_score: 0.7932 - val_f1-score: 0.8769 - lr: 0.0010\n",
      "Epoch 25/30\n",
      "827/827 [==============================] - 119s 144ms/step - loss: 0.1083 - iou_score: 0.8450 - f1-score: 0.9097 - val_loss: 0.1411 - val_iou_score: 0.7923 - val_f1-score: 0.8761 - lr: 0.0010\n",
      "Epoch 26/30\n",
      "827/827 [==============================] - 124s 150ms/step - loss: 0.1228 - iou_score: 0.8229 - f1-score: 0.8949 - val_loss: 0.2157 - val_iou_score: 0.6871 - val_f1-score: 0.8010 - lr: 0.0010\n",
      "Epoch 27/30\n",
      "827/827 [==============================] - 124s 150ms/step - loss: 0.1460 - iou_score: 0.7745 - f1-score: 0.8643 - val_loss: 0.1550 - val_iou_score: 0.7590 - val_f1-score: 0.8540 - lr: 1.0000e-04\n",
      "Epoch 28/30\n",
      "827/827 [==============================] - 122s 148ms/step - loss: 0.1216 - iou_score: 0.8055 - f1-score: 0.8857 - val_loss: 0.1540 - val_iou_score: 0.7624 - val_f1-score: 0.8550 - lr: 1.0000e-04\n",
      "Epoch 29/30\n",
      "827/827 [==============================] - 125s 151ms/step - loss: 0.1149 - iou_score: 0.8143 - f1-score: 0.8915 - val_loss: 0.1454 - val_iou_score: 0.7725 - val_f1-score: 0.8629 - lr: 1.0000e-05\n",
      "Epoch 30/30\n",
      "827/827 [==============================] - 123s 148ms/step - loss: 0.1135 - iou_score: 0.8165 - f1-score: 0.8930 - val_loss: 0.1458 - val_iou_score: 0.7720 - val_f1-score: 0.8627 - lr: 1.0000e-05\n",
      "CPU times: user 1h 18min 2s, sys: 9min 16s, total: 1h 27min 18s\n",
      "Wall time: 1h 2min 37s\n"
     ]
    }
   ],
   "source": [
    "%%time\n",
    "# fit model\n",
    "history = model.fit(train_dataloader,\n",
    "                    steps_per_epoch=len(train_dataloader),\n",
    "                    epochs=30,\n",
    "                    validation_data=val_dataloader,\n",
    "                    validation_steps=len(val_dataloader),\n",
    "                    callbacks=callbacks)"
   ]
  },
  {
   "cell_type": "code",
   "execution_count": 7,
   "id": "c596bcac",
   "metadata": {},
   "outputs": [
    {
     "name": "stdout",
     "output_type": "stream",
     "text": [
      "1656/1656 [==============================] - 14s 8ms/step - loss: 0.2336 - iou_score: 0.7692 - f1-score: 0.8318\n",
      "CPU times: user 25.2 s, sys: 624 ms, total: 25.8 s\n",
      "Wall time: 14.2 s\n"
     ]
    },
    {
     "data": {
      "text/plain": [
       "{'inference time': 0.008600651641974703,\n",
       " 'loss': 0.2335771918296814,\n",
       " 'IoU': 0.7691971063613892,\n",
       " 'F1': 0.8317785859107971}"
      ]
     },
     "execution_count": 7,
     "metadata": {},
     "output_type": "execute_result"
    }
   ],
   "source": [
    "%%time\n",
    "test_metrics = validate_model(model, test_dataloader)\n",
    "test_metrics"
   ]
  },
  {
   "cell_type": "code",
   "execution_count": null,
   "id": "f94a54ef",
   "metadata": {},
   "outputs": [],
   "source": []
  },
  {
   "cell_type": "code",
   "execution_count": null,
   "id": "ece7962c",
   "metadata": {},
   "outputs": [],
   "source": []
  },
  {
   "cell_type": "code",
   "execution_count": null,
   "id": "0525a55b",
   "metadata": {},
   "outputs": [],
   "source": []
  }
 ],
 "metadata": {
  "kernelspec": {
   "display_name": "Python 3 (ipykernel)",
   "language": "python",
   "name": "python3"
  },
  "language_info": {
   "codemirror_mode": {
    "name": "ipython",
    "version": 3
   },
   "file_extension": ".py",
   "mimetype": "text/x-python",
   "name": "python",
   "nbconvert_exporter": "python",
   "pygments_lexer": "ipython3",
   "version": "3.9.7"
  }
 },
 "nbformat": 4,
 "nbformat_minor": 5
}
